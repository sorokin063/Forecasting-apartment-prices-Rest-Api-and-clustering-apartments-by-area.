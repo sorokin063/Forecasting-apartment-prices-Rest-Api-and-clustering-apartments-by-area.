{
 "cells": [
  {
   "cell_type": "code",
   "execution_count": 5,
   "metadata": {},
   "outputs": [],
   "source": [
    "import requests\n",
    "res = requests.post('http://127.0.0.1:3000/Prediction')"
   ]
  },
  {
   "cell_type": "code",
   "execution_count": 8,
   "metadata": {},
   "outputs": [
    {
     "name": "stdout",
     "output_type": "stream",
     "text": [
      "<Response [200]>\n",
      "{'Prediction': 2967.706607917682}\n"
     ]
    }
   ],
   "source": [
    "url = 'http://127.0.0.1:3000/Prediction'\n",
    "\n",
    "data1 = {\n",
    "    'o_m2': 60.0,\n",
    "    'sum_floor': 10.0\n",
    "        }\n",
    "\n",
    "data2 = {\n",
    "    'o_m2': 48.0,\n",
    "    'sum_floor': 3.0\n",
    "        }\n",
    "\n",
    "data3 = {\n",
    "    'o_m2': 45.0,\n",
    "    'sum_floor': 5.0\n",
    "        }\n",
    "\n",
    "\n",
    "# json_param = json.dumps(data2)\n",
    "resp = requests.post(url, json=data3)\n",
    "\n",
    "print(resp)\n",
    "print(resp.json())\n"
   ]
  }
 ],
 "metadata": {
  "kernelspec": {
   "display_name": "base",
   "language": "python",
   "name": "python3"
  },
  "language_info": {
   "codemirror_mode": {
    "name": "ipython",
    "version": 3
   },
   "file_extension": ".py",
   "mimetype": "text/x-python",
   "name": "python",
   "nbconvert_exporter": "python",
   "pygments_lexer": "ipython3",
   "version": "3.9.12"
  },
  "orig_nbformat": 4
 },
 "nbformat": 4,
 "nbformat_minor": 2
}
