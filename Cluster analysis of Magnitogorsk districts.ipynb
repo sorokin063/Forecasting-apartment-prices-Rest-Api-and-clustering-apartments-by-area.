{
 "cells": [
  {
   "cell_type": "code",
   "execution_count": 1,
   "metadata": {},
   "outputs": [],
   "source": [
    "import numpy as np\n",
    "import pandas as pd\n",
    "import sqlite3\n",
    "import matplotlib.pyplot as plt\n",
    "from sklearn import preprocessing\n",
    "from scipy.cluster.hierarchy import dendrogram, linkage, fcluster\n",
    "from sklearn.cluster import KMeans\n",
    "%matplotlib inline"
   ]
  },
  {
   "cell_type": "markdown",
   "metadata": {},
   "source": [
    "## Задачи:\n",
    "- Провести кластерный анализ по имеющимся районам и сравнить колличество районов с исходным значением;\n",
    "- Использовать 2 метода кластеризации и сопоставить их друг другу."
   ]
  },
  {
   "cell_type": "markdown",
   "metadata": {},
   "source": [
    "## Общий вывод по методам:\n",
    "- В данном случае чуть лучше отработал иерархический кластерный анализ.\n",
    "- Не один из методов не смог в точности предсказать разбивку на районы исходя из базового набора данных;\n",
    "- Иерархический кластерный анализ смог в большей точности предсказать район Орджоникидзевский, метод KMeans не продемонстрировал даже приблизительной точности в разбивки групп, по районам."
   ]
  },
  {
   "cell_type": "code",
   "execution_count": 2,
   "metadata": {},
   "outputs": [],
   "source": [
    "con = sqlite3.connect('database.db')\n",
    "data = pd.read_sql(\"SELECT * FROM apartments\", con)\n",
    "# Удалим пустые значения:\n",
    "data = data.dropna()\n",
    "data1 = data[['price', 'o_m2', 'j_m2','k_m2','floor','sum_floor']]"
   ]
  },
  {
   "cell_type": "code",
   "execution_count": 3,
   "metadata": {},
   "outputs": [
    {
     "data": {
      "text/plain": [
       "area\n",
       "Ленинский                          3741.538462\n",
       "Ленинский (Левый берег)            3500.000000\n",
       "Орджоникидзевский                  3888.984375\n",
       "Орджоникидзевский (левый берег)    2237.500000\n",
       "Правобережный                      3487.888889\n",
       "Name: price, dtype: float64"
      ]
     },
     "execution_count": 3,
     "metadata": {},
     "output_type": "execute_result"
    }
   ],
   "source": [
    "# Всего имеем 5 районов:\n",
    "data.groupby('area')['price'].mean()"
   ]
  },
  {
   "cell_type": "code",
   "execution_count": 4,
   "metadata": {},
   "outputs": [
    {
     "data": {
      "text/html": [
       "<div>\n",
       "<style scoped>\n",
       "    .dataframe tbody tr th:only-of-type {\n",
       "        vertical-align: middle;\n",
       "    }\n",
       "\n",
       "    .dataframe tbody tr th {\n",
       "        vertical-align: top;\n",
       "    }\n",
       "\n",
       "    .dataframe thead th {\n",
       "        text-align: right;\n",
       "    }\n",
       "</style>\n",
       "<table border=\"1\" class=\"dataframe\">\n",
       "  <thead>\n",
       "    <tr style=\"text-align: right;\">\n",
       "      <th></th>\n",
       "      <th>price</th>\n",
       "      <th>o_m2</th>\n",
       "      <th>j_m2</th>\n",
       "      <th>k_m2</th>\n",
       "      <th>floor</th>\n",
       "      <th>sum_floor</th>\n",
       "    </tr>\n",
       "  </thead>\n",
       "  <tbody>\n",
       "    <tr>\n",
       "      <th>0</th>\n",
       "      <td>0.229671</td>\n",
       "      <td>0.262178</td>\n",
       "      <td>0.388889</td>\n",
       "      <td>0.266667</td>\n",
       "      <td>0.000000</td>\n",
       "      <td>0.066667</td>\n",
       "    </tr>\n",
       "    <tr>\n",
       "      <th>1</th>\n",
       "      <td>0.693979</td>\n",
       "      <td>0.559456</td>\n",
       "      <td>0.666667</td>\n",
       "      <td>0.500000</td>\n",
       "      <td>0.142857</td>\n",
       "      <td>0.466667</td>\n",
       "    </tr>\n",
       "    <tr>\n",
       "      <th>2</th>\n",
       "      <td>0.086903</td>\n",
       "      <td>0.025788</td>\n",
       "      <td>0.266667</td>\n",
       "      <td>0.800000</td>\n",
       "      <td>0.357143</td>\n",
       "      <td>0.533333</td>\n",
       "    </tr>\n",
       "    <tr>\n",
       "      <th>3</th>\n",
       "      <td>0.310366</td>\n",
       "      <td>0.366046</td>\n",
       "      <td>0.444444</td>\n",
       "      <td>0.266667</td>\n",
       "      <td>0.428571</td>\n",
       "      <td>0.533333</td>\n",
       "    </tr>\n",
       "    <tr>\n",
       "      <th>12</th>\n",
       "      <td>0.211049</td>\n",
       "      <td>0.142550</td>\n",
       "      <td>0.222222</td>\n",
       "      <td>0.300000</td>\n",
       "      <td>0.357143</td>\n",
       "      <td>0.533333</td>\n",
       "    </tr>\n",
       "  </tbody>\n",
       "</table>\n",
       "</div>"
      ],
      "text/plain": [
       "       price      o_m2      j_m2      k_m2     floor  sum_floor\n",
       "0   0.229671  0.262178  0.388889  0.266667  0.000000   0.066667\n",
       "1   0.693979  0.559456  0.666667  0.500000  0.142857   0.466667\n",
       "2   0.086903  0.025788  0.266667  0.800000  0.357143   0.533333\n",
       "3   0.310366  0.366046  0.444444  0.266667  0.428571   0.533333\n",
       "12  0.211049  0.142550  0.222222  0.300000  0.357143   0.533333"
      ]
     },
     "execution_count": 4,
     "metadata": {},
     "output_type": "execute_result"
    }
   ],
   "source": [
    "#Проведём нормализацию\n",
    "dataNorm = preprocessing.MinMaxScaler().fit_transform(data1)\n",
    "dataNorm= pd.DataFrame(dataNorm, index=data1.index, columns=data1.columns)\n",
    "dataNorm.head()"
   ]
  },
  {
   "attachments": {},
   "cell_type": "markdown",
   "metadata": {},
   "source": [
    "### 1. Иерархический кластерный анализ"
   ]
  },
  {
   "cell_type": "code",
   "execution_count": 5,
   "metadata": {},
   "outputs": [
    {
     "name": "stdout",
     "output_type": "stream",
     "text": [
      "<class 'numpy.ndarray'>\n",
      "(130, 4)\n"
     ]
    }
   ],
   "source": [
    "link = linkage(dataNorm, 'ward', 'euclidean')\n",
    "print(type(link))\n",
    "print(link.shape)"
   ]
  },
  {
   "cell_type": "code",
   "execution_count": 6,
   "metadata": {},
   "outputs": [
    {
     "data": {
      "image/png": "[encoded data removed]",
      "text/plain": [
       "<Figure size 600x400 with 1 Axes>"
      ]
     },
     "metadata": {},
     "output_type": "display_data"
    }
   ],
   "source": [
    "fig = plt.figure(figsize=(6,4))\n",
    "dn = dendrogram(link, labels=dataNorm.index.tolist())"
   ]
  },
  {
   "cell_type": "markdown",
   "metadata": {},
   "source": [
    "- Лучше не доверять разбиению на кластеры графика по умолчанию!"
   ]
  },
  {
   "cell_type": "code",
   "execution_count": 7,
   "metadata": {},
   "outputs": [
    {
     "data": {
      "image/png": "[encoded data removed]",
      "text/plain": [
       "<Figure size 600x400 with 1 Axes>"
      ]
     },
     "metadata": {},
     "output_type": "display_data"
    }
   ],
   "source": [
    "fig = plt.figure(figsize=(6,4))\n",
    "dn = dendrogram(link, color_threshold = -1, labels=dataNorm.index.tolist())"
   ]
  },
  {
   "cell_type": "markdown",
   "metadata": {},
   "source": [
    "- Как можно разглядеть на графике явно виднеются 5 кластеров, по одному на каждый район. необходимо установить порог равный - 1.5."
   ]
  },
  {
   "cell_type": "code",
   "execution_count": 8,
   "metadata": {},
   "outputs": [
    {
     "data": {
      "image/png": "[encoded data removed]",
      "text/plain": [
       "<Figure size 600x400 with 1 Axes>"
      ]
     },
     "metadata": {},
     "output_type": "display_data"
    }
   ],
   "source": [
    "fig = plt.figure(figsize=(6,4))\n",
    "dn = dendrogram(link, color_threshold = 1.5, labels=dataNorm.index.tolist())"
   ]
  },
  {
   "cell_type": "markdown",
   "metadata": {},
   "source": [
    "- Отлично, при разъбиение мы можем чётко разглядеть 5 выделенных кластеров, которые могут быть соотнесёны к каждому району."
   ]
  },
  {
   "cell_type": "code",
   "execution_count": 9,
   "metadata": {},
   "outputs": [
    {
     "data": {
      "text/html": [
       "<div>\n",
       "<style scoped>\n",
       "    .dataframe tbody tr th:only-of-type {\n",
       "        vertical-align: middle;\n",
       "    }\n",
       "\n",
       "    .dataframe tbody tr th {\n",
       "        vertical-align: top;\n",
       "    }\n",
       "\n",
       "    .dataframe thead th {\n",
       "        text-align: right;\n",
       "    }\n",
       "</style>\n",
       "<table border=\"1\" class=\"dataframe\">\n",
       "  <thead>\n",
       "    <tr style=\"text-align: right;\">\n",
       "      <th></th>\n",
       "      <th>price</th>\n",
       "      <th>o_m2</th>\n",
       "      <th>j_m2</th>\n",
       "      <th>k_m2</th>\n",
       "      <th>floor</th>\n",
       "      <th>sum_floor</th>\n",
       "    </tr>\n",
       "    <tr>\n",
       "      <th>fcluster</th>\n",
       "      <th></th>\n",
       "      <th></th>\n",
       "      <th></th>\n",
       "      <th></th>\n",
       "      <th></th>\n",
       "      <th></th>\n",
       "    </tr>\n",
       "  </thead>\n",
       "  <tbody>\n",
       "    <tr>\n",
       "      <th>1</th>\n",
       "      <td>4509.473684</td>\n",
       "      <td>71.989474</td>\n",
       "      <td>47.600000</td>\n",
       "      <td>8.473684</td>\n",
       "      <td>4.000000</td>\n",
       "      <td>4.684211</td>\n",
       "    </tr>\n",
       "    <tr>\n",
       "      <th>2</th>\n",
       "      <td>3005.977778</td>\n",
       "      <td>45.922222</td>\n",
       "      <td>26.793333</td>\n",
       "      <td>7.351111</td>\n",
       "      <td>2.422222</td>\n",
       "      <td>4.400000</td>\n",
       "    </tr>\n",
       "    <tr>\n",
       "      <th>3</th>\n",
       "      <td>7968.125000</td>\n",
       "      <td>115.800000</td>\n",
       "      <td>73.375000</td>\n",
       "      <td>17.412500</td>\n",
       "      <td>7.250000</td>\n",
       "      <td>11.875000</td>\n",
       "    </tr>\n",
       "    <tr>\n",
       "      <th>4</th>\n",
       "      <td>4290.500000</td>\n",
       "      <td>61.300000</td>\n",
       "      <td>34.855000</td>\n",
       "      <td>9.980000</td>\n",
       "      <td>8.600000</td>\n",
       "      <td>10.450000</td>\n",
       "    </tr>\n",
       "    <tr>\n",
       "      <th>5</th>\n",
       "      <td>2915.000000</td>\n",
       "      <td>41.241026</td>\n",
       "      <td>21.479487</td>\n",
       "      <td>8.830769</td>\n",
       "      <td>4.717949</td>\n",
       "      <td>10.589744</td>\n",
       "    </tr>\n",
       "  </tbody>\n",
       "</table>\n",
       "</div>"
      ],
      "text/plain": [
       "                price        o_m2       j_m2       k_m2     floor  sum_floor\n",
       "fcluster                                                                    \n",
       "1         4509.473684   71.989474  47.600000   8.473684  4.000000   4.684211\n",
       "2         3005.977778   45.922222  26.793333   7.351111  2.422222   4.400000\n",
       "3         7968.125000  115.800000  73.375000  17.412500  7.250000  11.875000\n",
       "4         4290.500000   61.300000  34.855000   9.980000  8.600000  10.450000\n",
       "5         2915.000000   41.241026  21.479487   8.830769  4.717949  10.589744"
      ]
     },
     "execution_count": 9,
     "metadata": {},
     "output_type": "execute_result"
    }
   ],
   "source": [
    "# Соотнесём кластеры по объектам(1.6 - порог растояния):\n",
    "data['fcluster'] = fcluster(link, 1.5, criterion='distance')\n",
    "data.groupby('fcluster').mean()"
   ]
  },
  {
   "cell_type": "code",
   "execution_count": 10,
   "metadata": {},
   "outputs": [
    {
     "data": {
      "text/html": [
       "<div>\n",
       "<style scoped>\n",
       "    .dataframe tbody tr th:only-of-type {\n",
       "        vertical-align: middle;\n",
       "    }\n",
       "\n",
       "    .dataframe tbody tr th {\n",
       "        vertical-align: top;\n",
       "    }\n",
       "\n",
       "    .dataframe thead th {\n",
       "        text-align: right;\n",
       "    }\n",
       "</style>\n",
       "<table border=\"1\" class=\"dataframe\">\n",
       "  <thead>\n",
       "    <tr style=\"text-align: right;\">\n",
       "      <th></th>\n",
       "      <th>area</th>\n",
       "      <th>price</th>\n",
       "      <th>o_m2</th>\n",
       "      <th>j_m2</th>\n",
       "      <th>k_m2</th>\n",
       "      <th>floor</th>\n",
       "      <th>sum_floor</th>\n",
       "      <th>fcluster</th>\n",
       "    </tr>\n",
       "  </thead>\n",
       "  <tbody>\n",
       "    <tr>\n",
       "      <th>16</th>\n",
       "      <td>Правобережный</td>\n",
       "      <td>4400</td>\n",
       "      <td>65.0</td>\n",
       "      <td>41.0</td>\n",
       "      <td>6.0</td>\n",
       "      <td>5</td>\n",
       "      <td>5</td>\n",
       "      <td>1</td>\n",
       "    </tr>\n",
       "    <tr>\n",
       "      <th>25</th>\n",
       "      <td>Орджоникидзевский</td>\n",
       "      <td>3600</td>\n",
       "      <td>65.0</td>\n",
       "      <td>45.0</td>\n",
       "      <td>9.0</td>\n",
       "      <td>5</td>\n",
       "      <td>5</td>\n",
       "      <td>1</td>\n",
       "    </tr>\n",
       "    <tr>\n",
       "      <th>39</th>\n",
       "      <td>Ленинский</td>\n",
       "      <td>5100</td>\n",
       "      <td>83.0</td>\n",
       "      <td>55.0</td>\n",
       "      <td>9.0</td>\n",
       "      <td>3</td>\n",
       "      <td>4</td>\n",
       "      <td>1</td>\n",
       "    </tr>\n",
       "    <tr>\n",
       "      <th>41</th>\n",
       "      <td>Ленинский</td>\n",
       "      <td>3750</td>\n",
       "      <td>77.0</td>\n",
       "      <td>48.0</td>\n",
       "      <td>9.0</td>\n",
       "      <td>5</td>\n",
       "      <td>5</td>\n",
       "      <td>1</td>\n",
       "    </tr>\n",
       "    <tr>\n",
       "      <th>50</th>\n",
       "      <td>Орджоникидзевский</td>\n",
       "      <td>2800</td>\n",
       "      <td>98.0</td>\n",
       "      <td>72.4</td>\n",
       "      <td>7.0</td>\n",
       "      <td>4</td>\n",
       "      <td>5</td>\n",
       "      <td>1</td>\n",
       "    </tr>\n",
       "    <tr>\n",
       "      <th>62</th>\n",
       "      <td>Правобережный</td>\n",
       "      <td>3990</td>\n",
       "      <td>63.0</td>\n",
       "      <td>42.0</td>\n",
       "      <td>9.0</td>\n",
       "      <td>5</td>\n",
       "      <td>5</td>\n",
       "      <td>1</td>\n",
       "    </tr>\n",
       "    <tr>\n",
       "      <th>64</th>\n",
       "      <td>Правобережный</td>\n",
       "      <td>3500</td>\n",
       "      <td>60.0</td>\n",
       "      <td>39.0</td>\n",
       "      <td>7.0</td>\n",
       "      <td>4</td>\n",
       "      <td>5</td>\n",
       "      <td>1</td>\n",
       "    </tr>\n",
       "    <tr>\n",
       "      <th>87</th>\n",
       "      <td>Орджоникидзевский</td>\n",
       "      <td>5100</td>\n",
       "      <td>68.5</td>\n",
       "      <td>43.0</td>\n",
       "      <td>9.0</td>\n",
       "      <td>2</td>\n",
       "      <td>5</td>\n",
       "      <td>1</td>\n",
       "    </tr>\n",
       "    <tr>\n",
       "      <th>105</th>\n",
       "      <td>Ленинский</td>\n",
       "      <td>5600</td>\n",
       "      <td>83.0</td>\n",
       "      <td>55.0</td>\n",
       "      <td>9.0</td>\n",
       "      <td>3</td>\n",
       "      <td>4</td>\n",
       "      <td>1</td>\n",
       "    </tr>\n",
       "    <tr>\n",
       "      <th>106</th>\n",
       "      <td>Орджоникидзевский (левый берег)</td>\n",
       "      <td>2000</td>\n",
       "      <td>72.0</td>\n",
       "      <td>45.0</td>\n",
       "      <td>6.0</td>\n",
       "      <td>3</td>\n",
       "      <td>4</td>\n",
       "      <td>1</td>\n",
       "    </tr>\n",
       "    <tr>\n",
       "      <th>111</th>\n",
       "      <td>Ленинский</td>\n",
       "      <td>5490</td>\n",
       "      <td>75.8</td>\n",
       "      <td>54.0</td>\n",
       "      <td>10.0</td>\n",
       "      <td>4</td>\n",
       "      <td>4</td>\n",
       "      <td>1</td>\n",
       "    </tr>\n",
       "    <tr>\n",
       "      <th>114</th>\n",
       "      <td>Орджоникидзевский (левый берег)</td>\n",
       "      <td>2300</td>\n",
       "      <td>65.0</td>\n",
       "      <td>45.0</td>\n",
       "      <td>6.0</td>\n",
       "      <td>4</td>\n",
       "      <td>4</td>\n",
       "      <td>1</td>\n",
       "    </tr>\n",
       "    <tr>\n",
       "      <th>116</th>\n",
       "      <td>Правобережный</td>\n",
       "      <td>4300</td>\n",
       "      <td>63.0</td>\n",
       "      <td>42.0</td>\n",
       "      <td>9.0</td>\n",
       "      <td>5</td>\n",
       "      <td>5</td>\n",
       "      <td>1</td>\n",
       "    </tr>\n",
       "    <tr>\n",
       "      <th>117</th>\n",
       "      <td>Ленинский</td>\n",
       "      <td>5300</td>\n",
       "      <td>66.7</td>\n",
       "      <td>43.0</td>\n",
       "      <td>9.0</td>\n",
       "      <td>3</td>\n",
       "      <td>5</td>\n",
       "      <td>1</td>\n",
       "    </tr>\n",
       "    <tr>\n",
       "      <th>121</th>\n",
       "      <td>Ленинский</td>\n",
       "      <td>6400</td>\n",
       "      <td>76.4</td>\n",
       "      <td>58.0</td>\n",
       "      <td>12.0</td>\n",
       "      <td>5</td>\n",
       "      <td>5</td>\n",
       "      <td>1</td>\n",
       "    </tr>\n",
       "    <tr>\n",
       "      <th>164</th>\n",
       "      <td>Правобережный</td>\n",
       "      <td>6300</td>\n",
       "      <td>75.0</td>\n",
       "      <td>45.0</td>\n",
       "      <td>8.0</td>\n",
       "      <td>2</td>\n",
       "      <td>3</td>\n",
       "      <td>1</td>\n",
       "    </tr>\n",
       "    <tr>\n",
       "      <th>176</th>\n",
       "      <td>Ленинский</td>\n",
       "      <td>6050</td>\n",
       "      <td>73.9</td>\n",
       "      <td>50.0</td>\n",
       "      <td>12.0</td>\n",
       "      <td>4</td>\n",
       "      <td>5</td>\n",
       "      <td>1</td>\n",
       "    </tr>\n",
       "    <tr>\n",
       "      <th>180</th>\n",
       "      <td>Ленинский</td>\n",
       "      <td>6200</td>\n",
       "      <td>72.8</td>\n",
       "      <td>44.0</td>\n",
       "      <td>8.0</td>\n",
       "      <td>6</td>\n",
       "      <td>6</td>\n",
       "      <td>1</td>\n",
       "    </tr>\n",
       "    <tr>\n",
       "      <th>182</th>\n",
       "      <td>Ленинский (Левый берег)</td>\n",
       "      <td>3500</td>\n",
       "      <td>64.7</td>\n",
       "      <td>38.0</td>\n",
       "      <td>7.0</td>\n",
       "      <td>4</td>\n",
       "      <td>5</td>\n",
       "      <td>1</td>\n",
       "    </tr>\n",
       "  </tbody>\n",
       "</table>\n",
       "</div>"
      ],
      "text/plain": [
       "                                area  price  o_m2  j_m2  k_m2  floor  \\\n",
       "16                     Правобережный   4400  65.0  41.0   6.0      5   \n",
       "25                 Орджоникидзевский   3600  65.0  45.0   9.0      5   \n",
       "39                         Ленинский   5100  83.0  55.0   9.0      3   \n",
       "41                         Ленинский   3750  77.0  48.0   9.0      5   \n",
       "50                 Орджоникидзевский   2800  98.0  72.4   7.0      4   \n",
       "62                     Правобережный   3990  63.0  42.0   9.0      5   \n",
       "64                     Правобережный   3500  60.0  39.0   7.0      4   \n",
       "87                 Орджоникидзевский   5100  68.5  43.0   9.0      2   \n",
       "105                        Ленинский   5600  83.0  55.0   9.0      3   \n",
       "106  Орджоникидзевский (левый берег)   2000  72.0  45.0   6.0      3   \n",
       "111                        Ленинский   5490  75.8  54.0  10.0      4   \n",
       "114  Орджоникидзевский (левый берег)   2300  65.0  45.0   6.0      4   \n",
       "116                    Правобережный   4300  63.0  42.0   9.0      5   \n",
       "117                        Ленинский   5300  66.7  43.0   9.0      3   \n",
       "121                        Ленинский   6400  76.4  58.0  12.0      5   \n",
       "164                    Правобережный   6300  75.0  45.0   8.0      2   \n",
       "176                        Ленинский   6050  73.9  50.0  12.0      4   \n",
       "180                        Ленинский   6200  72.8  44.0   8.0      6   \n",
       "182          Ленинский (Левый берег)   3500  64.7  38.0   7.0      4   \n",
       "\n",
       "     sum_floor  fcluster  \n",
       "16           5         1  \n",
       "25           5         1  \n",
       "39           4         1  \n",
       "41           5         1  \n",
       "50           5         1  \n",
       "62           5         1  \n",
       "64           5         1  \n",
       "87           5         1  \n",
       "105          4         1  \n",
       "106          4         1  \n",
       "111          4         1  \n",
       "114          4         1  \n",
       "116          5         1  \n",
       "117          5         1  \n",
       "121          5         1  \n",
       "164          3         1  \n",
       "176          5         1  \n",
       "180          6         1  \n",
       "182          5         1  "
      ]
     },
     "execution_count": 10,
     "metadata": {},
     "output_type": "execute_result"
    }
   ],
   "source": [
    "#Список объектов попавших в кластер:\n",
    "data[data['fcluster']==1]"
   ]
  },
  {
   "cell_type": "code",
   "execution_count": 11,
   "metadata": {},
   "outputs": [
    {
     "data": {
      "text/plain": [
       "fcluster\n",
       "1    19\n",
       "2    45\n",
       "3     8\n",
       "4    20\n",
       "5    39\n",
       "dtype: int64"
      ]
     },
     "execution_count": 11,
     "metadata": {},
     "output_type": "execute_result"
    }
   ],
   "source": [
    "data.groupby('fcluster').size()"
   ]
  },
  {
   "cell_type": "code",
   "execution_count": 12,
   "metadata": {},
   "outputs": [
    {
     "data": {
      "text/plain": [
       "area\n",
       "Ленинский                          26\n",
       "Ленинский (Левый берег)             1\n",
       "Орджоникидзевский                  64\n",
       "Орджоникидзевский (левый берег)     4\n",
       "Правобережный                      36\n",
       "dtype: int64"
      ]
     },
     "execution_count": 12,
     "metadata": {},
     "output_type": "execute_result"
    }
   ],
   "source": [
    "data.groupby('area').size()"
   ]
  },
  {
   "cell_type": "markdown",
   "metadata": {},
   "source": [
    "### Выводы:"
   ]
  },
  {
   "cell_type": "markdown",
   "metadata": {},
   "source": [
    "- 1. Данный метод кластеризации не разбил в точности квартиры по районам, в которых осуществляется продажа, имеется сборная \"солянка\";\n",
    "- 2. По кол-ву квартир по районам в разбике так же отсутствует точность;\n",
    "- 3. Орджоникидзевский район попал практически в каждый кластер."
   ]
  },
  {
   "attachments": {},
   "cell_type": "markdown",
   "metadata": {},
   "source": [
    "### 2. Построение кластеризации методом k-means"
   ]
  },
  {
   "cell_type": "code",
   "execution_count": 13,
   "metadata": {},
   "outputs": [
    {
     "data": {
      "text/html": [
       "<div>\n",
       "<style scoped>\n",
       "    .dataframe tbody tr th:only-of-type {\n",
       "        vertical-align: middle;\n",
       "    }\n",
       "\n",
       "    .dataframe tbody tr th {\n",
       "        vertical-align: top;\n",
       "    }\n",
       "\n",
       "    .dataframe thead th {\n",
       "        text-align: right;\n",
       "    }\n",
       "</style>\n",
       "<table border=\"1\" class=\"dataframe\">\n",
       "  <thead>\n",
       "    <tr style=\"text-align: right;\">\n",
       "      <th></th>\n",
       "      <th>price</th>\n",
       "      <th>o_m2</th>\n",
       "      <th>j_m2</th>\n",
       "      <th>k_m2</th>\n",
       "      <th>floor</th>\n",
       "      <th>sum_floor</th>\n",
       "    </tr>\n",
       "  </thead>\n",
       "  <tbody>\n",
       "    <tr>\n",
       "      <th>0</th>\n",
       "      <td>0.229671</td>\n",
       "      <td>0.262178</td>\n",
       "      <td>0.388889</td>\n",
       "      <td>0.266667</td>\n",
       "      <td>0.000000</td>\n",
       "      <td>0.066667</td>\n",
       "    </tr>\n",
       "    <tr>\n",
       "      <th>1</th>\n",
       "      <td>0.693979</td>\n",
       "      <td>0.559456</td>\n",
       "      <td>0.666667</td>\n",
       "      <td>0.500000</td>\n",
       "      <td>0.142857</td>\n",
       "      <td>0.466667</td>\n",
       "    </tr>\n",
       "    <tr>\n",
       "      <th>2</th>\n",
       "      <td>0.086903</td>\n",
       "      <td>0.025788</td>\n",
       "      <td>0.266667</td>\n",
       "      <td>0.800000</td>\n",
       "      <td>0.357143</td>\n",
       "      <td>0.533333</td>\n",
       "    </tr>\n",
       "    <tr>\n",
       "      <th>3</th>\n",
       "      <td>0.310366</td>\n",
       "      <td>0.366046</td>\n",
       "      <td>0.444444</td>\n",
       "      <td>0.266667</td>\n",
       "      <td>0.428571</td>\n",
       "      <td>0.533333</td>\n",
       "    </tr>\n",
       "    <tr>\n",
       "      <th>12</th>\n",
       "      <td>0.211049</td>\n",
       "      <td>0.142550</td>\n",
       "      <td>0.222222</td>\n",
       "      <td>0.300000</td>\n",
       "      <td>0.357143</td>\n",
       "      <td>0.533333</td>\n",
       "    </tr>\n",
       "  </tbody>\n",
       "</table>\n",
       "</div>"
      ],
      "text/plain": [
       "       price      o_m2      j_m2      k_m2     floor  sum_floor\n",
       "0   0.229671  0.262178  0.388889  0.266667  0.000000   0.066667\n",
       "1   0.693979  0.559456  0.666667  0.500000  0.142857   0.466667\n",
       "2   0.086903  0.025788  0.266667  0.800000  0.357143   0.533333\n",
       "3   0.310366  0.366046  0.444444  0.266667  0.428571   0.533333\n",
       "12  0.211049  0.142550  0.222222  0.300000  0.357143   0.533333"
      ]
     },
     "execution_count": 13,
     "metadata": {},
     "output_type": "execute_result"
    }
   ],
   "source": [
    "dataNorm.head()"
   ]
  },
  {
   "cell_type": "code",
   "execution_count": 14,
   "metadata": {},
   "outputs": [
    {
     "name": "stderr",
     "output_type": "stream",
     "text": [
      "c:\\Users\\roman\\Anaconda3\\lib\\site-packages\\sklearn\\cluster\\_kmeans.py:1036: UserWarning: KMeans is known to have a memory leak on Windows with MKL, when there are less chunks than available threads. You can avoid it by setting the environment variable OMP_NUM_THREADS=1.\n",
      "  warnings.warn(\n"
     ]
    },
    {
     "data": {
      "image/png": "[encoded data removed]",
      "text/plain": [
       "<Figure size 640x480 with 1 Axes>"
      ]
     },
     "metadata": {},
     "output_type": "display_data"
    }
   ],
   "source": [
    "# Строи график каменистая осыпь:\n",
    "K = range(1,11)\n",
    "models = [KMeans(n_clusters=k, random_state=42,).fit(dataNorm) for k in K]\n",
    "dist = [model.inertia_ for model in models]\n",
    "\n",
    "plt.plot(K, dist, marker='o')\n",
    "plt.xlabel('Число кластеров')\n",
    "plt.ylabel('Сумма квадратов расстояния')\n",
    "plt.title('Каменистая осыпь. Ищем оптимальное k')\n",
    "plt.show()"
   ]
  },
  {
   "cell_type": "markdown",
   "metadata": {},
   "source": [
    "- Если приглядется, то на графике можно увидеть примерно 5 изломов;\n",
    "- Предположим, что у нас 5 кластера."
   ]
  },
  {
   "cell_type": "code",
   "execution_count": 15,
   "metadata": {},
   "outputs": [],
   "source": [
    "# максимальное число итераций:\n",
    "max_iter_1 = 300\n",
    "# инициализация модели:\n",
    "model = KMeans(n_clusters=5, random_state=42, max_iter=max_iter_1, n_init=10,\n",
    "                verbose=0, tol=0.0001)"
   ]
  },
  {
   "cell_type": "code",
   "execution_count": 16,
   "metadata": {},
   "outputs": [
    {
     "data": {
      "text/plain": [
       "KMeans(n_clusters=5, random_state=42)"
      ]
     },
     "execution_count": 16,
     "metadata": {},
     "output_type": "execute_result"
    }
   ],
   "source": [
    "# Проведение кластеризации:\n",
    "model.fit(dataNorm)"
   ]
  },
  {
   "cell_type": "code",
   "execution_count": 17,
   "metadata": {},
   "outputs": [
    {
     "data": {
      "text/plain": [
       "13"
      ]
     },
     "execution_count": 17,
     "metadata": {},
     "output_type": "execute_result"
    }
   ],
   "source": [
    "# Сколько итераций потребовалось\n",
    "model.n_iter_"
   ]
  },
  {
   "cell_type": "code",
   "execution_count": 38,
   "metadata": {},
   "outputs": [],
   "source": [
    "max_iter_2 = 9"
   ]
  },
  {
   "cell_type": "code",
   "execution_count": 39,
   "metadata": {},
   "outputs": [
    {
     "data": {
      "text/plain": [
       "KMeans(max_iter=9, n_clusters=14, random_state=42)"
      ]
     },
     "execution_count": 39,
     "metadata": {},
     "output_type": "execute_result"
    }
   ],
   "source": [
    "model_tmp = KMeans(n_clusters=14, random_state=42, max_iter=max_iter_2, n_init=10,\n",
    "                verbose=0, tol=0.0001)\n",
    "model_tmp.fit(dataNorm)"
   ]
  },
  {
   "cell_type": "code",
   "execution_count": 40,
   "metadata": {},
   "outputs": [
    {
     "data": {
      "text/plain": [
       "8"
      ]
     },
     "execution_count": 40,
     "metadata": {},
     "output_type": "execute_result"
    }
   ],
   "source": [
    "model_tmp.n_iter_"
   ]
  },
  {
   "cell_type": "code",
   "execution_count": 41,
   "metadata": {},
   "outputs": [
    {
     "name": "stdout",
     "output_type": "stream",
     "text": [
      "Cошлось за 8 итераций\n"
     ]
    }
   ],
   "source": [
    "#Проверим сходимость алгоритмов:\n",
    "if model_tmp.n_iter_ == max_iter_2:\n",
    "    print(f'Не сошлось за {model_tmp.n_iter_} итераций')\n",
    "else:\n",
    "    print(f'Cошлось за {model_tmp.n_iter_} итераций')"
   ]
  },
  {
   "cell_type": "code",
   "execution_count": 42,
   "metadata": {},
   "outputs": [
    {
     "data": {
      "text/plain": [
       "array([3, 4, 0, 2, 0, 0, 4, 0, 1, 2, 2, 0, 3, 1, 4, 0, 0, 3, 1, 0, 3, 2,\n",
       "       3, 2, 3, 1, 0, 1, 3, 2, 3, 3, 3, 2, 1, 0, 0, 3, 0, 3, 1, 3, 2, 0,\n",
       "       0, 1, 3, 1, 0, 3, 3, 2, 3, 3, 2, 2, 3, 3, 0, 1, 0, 0, 3, 0, 1, 3,\n",
       "       3, 3, 3, 0, 4, 3, 2, 1, 1, 3, 1, 1, 1, 2, 1, 2, 1, 1, 3, 3, 1, 2,\n",
       "       2, 0, 1, 4, 4, 2, 1, 1, 0, 0, 3, 3, 2, 3, 0, 1, 4, 2, 3, 4, 1, 0,\n",
       "       2, 0, 2, 1, 0, 1, 0, 0, 1, 0, 1, 3, 0, 2, 3, 2, 3, 0, 2, 0, 1])"
      ]
     },
     "execution_count": 42,
     "metadata": {},
     "output_type": "execute_result"
    }
   ],
   "source": [
    "#Результаты кластеризации:\n",
    "#Номер кластера начинается с 0, а не с 1\n",
    "model.labels_"
   ]
  },
  {
   "cell_type": "code",
   "execution_count": 43,
   "metadata": {},
   "outputs": [
    {
     "data": {
      "text/html": [
       "<div>\n",
       "<style scoped>\n",
       "    .dataframe tbody tr th:only-of-type {\n",
       "        vertical-align: middle;\n",
       "    }\n",
       "\n",
       "    .dataframe tbody tr th {\n",
       "        vertical-align: top;\n",
       "    }\n",
       "\n",
       "    .dataframe thead th {\n",
       "        text-align: right;\n",
       "    }\n",
       "</style>\n",
       "<table border=\"1\" class=\"dataframe\">\n",
       "  <thead>\n",
       "    <tr style=\"text-align: right;\">\n",
       "      <th></th>\n",
       "      <th>price</th>\n",
       "      <th>o_m2</th>\n",
       "      <th>j_m2</th>\n",
       "      <th>k_m2</th>\n",
       "      <th>floor</th>\n",
       "      <th>sum_floor</th>\n",
       "      <th>fcluster</th>\n",
       "    </tr>\n",
       "    <tr>\n",
       "      <th>KMeans</th>\n",
       "      <th></th>\n",
       "      <th></th>\n",
       "      <th></th>\n",
       "      <th></th>\n",
       "      <th></th>\n",
       "      <th></th>\n",
       "      <th></th>\n",
       "    </tr>\n",
       "  </thead>\n",
       "  <tbody>\n",
       "    <tr>\n",
       "      <th>0</th>\n",
       "      <td>2625.333333</td>\n",
       "      <td>37.163636</td>\n",
       "      <td>18.233333</td>\n",
       "      <td>8.557576</td>\n",
       "      <td>5.030303</td>\n",
       "      <td>10.454545</td>\n",
       "      <td>5.000000</td>\n",
       "    </tr>\n",
       "    <tr>\n",
       "      <th>1</th>\n",
       "      <td>4386.633333</td>\n",
       "      <td>66.943333</td>\n",
       "      <td>44.026667</td>\n",
       "      <td>8.700000</td>\n",
       "      <td>3.266667</td>\n",
       "      <td>5.033333</td>\n",
       "      <td>1.566667</td>\n",
       "    </tr>\n",
       "    <tr>\n",
       "      <th>2</th>\n",
       "      <td>4394.166667</td>\n",
       "      <td>61.875000</td>\n",
       "      <td>35.545833</td>\n",
       "      <td>10.108333</td>\n",
       "      <td>7.750000</td>\n",
       "      <td>10.750000</td>\n",
       "      <td>4.166667</td>\n",
       "    </tr>\n",
       "    <tr>\n",
       "      <th>3</th>\n",
       "      <td>2687.472222</td>\n",
       "      <td>43.027778</td>\n",
       "      <td>24.147222</td>\n",
       "      <td>6.938889</td>\n",
       "      <td>2.527778</td>\n",
       "      <td>4.305556</td>\n",
       "      <td>2.000000</td>\n",
       "    </tr>\n",
       "    <tr>\n",
       "      <th>4</th>\n",
       "      <td>7968.125000</td>\n",
       "      <td>115.800000</td>\n",
       "      <td>73.375000</td>\n",
       "      <td>17.412500</td>\n",
       "      <td>7.250000</td>\n",
       "      <td>11.875000</td>\n",
       "      <td>3.000000</td>\n",
       "    </tr>\n",
       "  </tbody>\n",
       "</table>\n",
       "</div>"
      ],
      "text/plain": [
       "              price        o_m2       j_m2       k_m2     floor  sum_floor  \\\n",
       "KMeans                                                                       \n",
       "0       2625.333333   37.163636  18.233333   8.557576  5.030303  10.454545   \n",
       "1       4386.633333   66.943333  44.026667   8.700000  3.266667   5.033333   \n",
       "2       4394.166667   61.875000  35.545833  10.108333  7.750000  10.750000   \n",
       "3       2687.472222   43.027778  24.147222   6.938889  2.527778   4.305556   \n",
       "4       7968.125000  115.800000  73.375000  17.412500  7.250000  11.875000   \n",
       "\n",
       "        fcluster  \n",
       "KMeans            \n",
       "0       5.000000  \n",
       "1       1.566667  \n",
       "2       4.166667  \n",
       "3       2.000000  \n",
       "4       3.000000  "
      ]
     },
     "execution_count": 43,
     "metadata": {},
     "output_type": "execute_result"
    }
   ],
   "source": [
    "# Добавим результат анализа к исходным данным:\n",
    "data['KMeans'] = model.labels_\n",
    "data.groupby('KMeans').mean()"
   ]
  },
  {
   "cell_type": "markdown",
   "metadata": {},
   "source": [
    "- Таблица очень похожа на ту, которую мы получили в иерархическом кластерном анализе."
   ]
  },
  {
   "cell_type": "code",
   "execution_count": 75,
   "metadata": {},
   "outputs": [
    {
     "data": {
      "text/plain": [
       "array([[0.20177943, 0.12008336, 0.20259259, 0.28525253, 0.28787879,\n",
       "        0.56363636],\n",
       "       [0.42043865, 0.33340497, 0.48918519, 0.29      , 0.16190476,\n",
       "        0.20222222],\n",
       "       [0.42137389, 0.29709885, 0.3949537 , 0.33694444, 0.48214286,\n",
       "        0.58333333],\n",
       "       [0.20949376, 0.1620901 , 0.26830247, 0.2312963 , 0.10912698,\n",
       "        0.1537037 ],\n",
       "       [0.86506828, 0.68338109, 0.81527778, 0.58041667, 0.44642857,\n",
       "        0.65833333]])"
      ]
     },
     "execution_count": 75,
     "metadata": {},
     "output_type": "execute_result"
    }
   ],
   "source": [
    "# координаты центров кластера:\n",
    "model.cluster_centers_"
   ]
  },
  {
   "cell_type": "code",
   "execution_count": 76,
   "metadata": {},
   "outputs": [
    {
     "name": "stderr",
     "output_type": "stream",
     "text": [
      "c:\\Users\\roman\\Anaconda3\\lib\\site-packages\\sklearn\\base.py:450: UserWarning: X does not have valid feature names, but KMeans was fitted with feature names\n",
      "  warnings.warn(\n"
     ]
    },
    {
     "data": {
      "text/plain": [
       "array([4, 3])"
      ]
     },
     "execution_count": 76,
     "metadata": {},
     "output_type": "execute_result"
    }
   ],
   "source": [
    "# Проверим работу кластера:\n",
    "new_item = [\n",
    "    [1,1,1,1,1,1],\n",
    "    [0,0,0,0,0,0]\n",
    "]\n",
    "model.predict(new_item)\n",
    "# Модель правильно соотнесла наши заданные параметры, так как 1 - это тот кластер(2), где самые большие параметры;\n",
    "# 0 - наименьшие параметры, отнесёно в кластер 1."
   ]
  },
  {
   "cell_type": "code",
   "execution_count": 77,
   "metadata": {},
   "outputs": [
    {
     "data": {
      "text/plain": [
       "KMeans\n",
       "0    33\n",
       "1    30\n",
       "2    24\n",
       "3    36\n",
       "4     8\n",
       "dtype: int64"
      ]
     },
     "execution_count": 77,
     "metadata": {},
     "output_type": "execute_result"
    }
   ],
   "source": [
    "data.groupby('KMeans').size()"
   ]
  },
  {
   "cell_type": "code",
   "execution_count": 78,
   "metadata": {},
   "outputs": [
    {
     "data": {
      "text/plain": [
       "area\n",
       "Ленинский                          26\n",
       "Ленинский (Левый берег)             1\n",
       "Орджоникидзевский                  64\n",
       "Орджоникидзевский (левый берег)     4\n",
       "Правобережный                      36\n",
       "dtype: int64"
      ]
     },
     "execution_count": 78,
     "metadata": {},
     "output_type": "execute_result"
    }
   ],
   "source": [
    "data.groupby('area').size()"
   ]
  },
  {
   "cell_type": "markdown",
   "metadata": {},
   "source": [
    "- р.Орджоникидзевский очень большой по численности, KMeans не отразил этот факт у себя в разбивке;\n",
    "- Точной разбики по квартирам, как и ожидалось - не получилось."
   ]
  },
  {
   "cell_type": "code",
   "execution_count": 57,
   "metadata": {},
   "outputs": [
    {
     "data": {
      "text/html": [
       "<div>\n",
       "<style scoped>\n",
       "    .dataframe tbody tr th:only-of-type {\n",
       "        vertical-align: middle;\n",
       "    }\n",
       "\n",
       "    .dataframe tbody tr th {\n",
       "        vertical-align: top;\n",
       "    }\n",
       "\n",
       "    .dataframe thead th {\n",
       "        text-align: right;\n",
       "    }\n",
       "</style>\n",
       "<table border=\"1\" class=\"dataframe\">\n",
       "  <thead>\n",
       "    <tr style=\"text-align: right;\">\n",
       "      <th></th>\n",
       "      <th>area</th>\n",
       "      <th>price</th>\n",
       "      <th>o_m2</th>\n",
       "      <th>j_m2</th>\n",
       "      <th>k_m2</th>\n",
       "      <th>floor</th>\n",
       "      <th>sum_floor</th>\n",
       "      <th>fcluster</th>\n",
       "      <th>KMeans</th>\n",
       "    </tr>\n",
       "  </thead>\n",
       "  <tbody>\n",
       "    <tr>\n",
       "      <th>16</th>\n",
       "      <td>Правобережный</td>\n",
       "      <td>4400</td>\n",
       "      <td>65.0</td>\n",
       "      <td>41.0</td>\n",
       "      <td>6.0</td>\n",
       "      <td>5</td>\n",
       "      <td>5</td>\n",
       "      <td>1</td>\n",
       "      <td>1</td>\n",
       "    </tr>\n",
       "    <tr>\n",
       "      <th>25</th>\n",
       "      <td>Орджоникидзевский</td>\n",
       "      <td>3600</td>\n",
       "      <td>65.0</td>\n",
       "      <td>45.0</td>\n",
       "      <td>9.0</td>\n",
       "      <td>5</td>\n",
       "      <td>5</td>\n",
       "      <td>1</td>\n",
       "      <td>1</td>\n",
       "    </tr>\n",
       "    <tr>\n",
       "      <th>30</th>\n",
       "      <td>Правобережный</td>\n",
       "      <td>3350</td>\n",
       "      <td>55.7</td>\n",
       "      <td>41.0</td>\n",
       "      <td>7.0</td>\n",
       "      <td>1</td>\n",
       "      <td>5</td>\n",
       "      <td>2</td>\n",
       "      <td>1</td>\n",
       "    </tr>\n",
       "    <tr>\n",
       "      <th>39</th>\n",
       "      <td>Ленинский</td>\n",
       "      <td>5100</td>\n",
       "      <td>83.0</td>\n",
       "      <td>55.0</td>\n",
       "      <td>9.0</td>\n",
       "      <td>3</td>\n",
       "      <td>4</td>\n",
       "      <td>1</td>\n",
       "      <td>1</td>\n",
       "    </tr>\n",
       "    <tr>\n",
       "      <th>41</th>\n",
       "      <td>Ленинский</td>\n",
       "      <td>3750</td>\n",
       "      <td>77.0</td>\n",
       "      <td>48.0</td>\n",
       "      <td>9.0</td>\n",
       "      <td>5</td>\n",
       "      <td>5</td>\n",
       "      <td>1</td>\n",
       "      <td>1</td>\n",
       "    </tr>\n",
       "    <tr>\n",
       "      <th>50</th>\n",
       "      <td>Орджоникидзевский</td>\n",
       "      <td>2800</td>\n",
       "      <td>98.0</td>\n",
       "      <td>72.4</td>\n",
       "      <td>7.0</td>\n",
       "      <td>4</td>\n",
       "      <td>5</td>\n",
       "      <td>1</td>\n",
       "      <td>1</td>\n",
       "    </tr>\n",
       "    <tr>\n",
       "      <th>57</th>\n",
       "      <td>Орджоникидзевский</td>\n",
       "      <td>3700</td>\n",
       "      <td>58.0</td>\n",
       "      <td>38.0</td>\n",
       "      <td>10.0</td>\n",
       "      <td>1</td>\n",
       "      <td>10</td>\n",
       "      <td>5</td>\n",
       "      <td>1</td>\n",
       "    </tr>\n",
       "    <tr>\n",
       "      <th>62</th>\n",
       "      <td>Правобережный</td>\n",
       "      <td>3990</td>\n",
       "      <td>63.0</td>\n",
       "      <td>42.0</td>\n",
       "      <td>9.0</td>\n",
       "      <td>5</td>\n",
       "      <td>5</td>\n",
       "      <td>1</td>\n",
       "      <td>1</td>\n",
       "    </tr>\n",
       "    <tr>\n",
       "      <th>64</th>\n",
       "      <td>Правобережный</td>\n",
       "      <td>3500</td>\n",
       "      <td>60.0</td>\n",
       "      <td>39.0</td>\n",
       "      <td>7.0</td>\n",
       "      <td>4</td>\n",
       "      <td>5</td>\n",
       "      <td>1</td>\n",
       "      <td>1</td>\n",
       "    </tr>\n",
       "    <tr>\n",
       "      <th>78</th>\n",
       "      <td>Орджоникидзевский</td>\n",
       "      <td>3699</td>\n",
       "      <td>65.0</td>\n",
       "      <td>42.0</td>\n",
       "      <td>9.0</td>\n",
       "      <td>3</td>\n",
       "      <td>9</td>\n",
       "      <td>5</td>\n",
       "      <td>1</td>\n",
       "    </tr>\n",
       "    <tr>\n",
       "      <th>87</th>\n",
       "      <td>Орджоникидзевский</td>\n",
       "      <td>5100</td>\n",
       "      <td>68.5</td>\n",
       "      <td>43.0</td>\n",
       "      <td>9.0</td>\n",
       "      <td>2</td>\n",
       "      <td>5</td>\n",
       "      <td>1</td>\n",
       "      <td>1</td>\n",
       "    </tr>\n",
       "    <tr>\n",
       "      <th>105</th>\n",
       "      <td>Ленинский</td>\n",
       "      <td>5600</td>\n",
       "      <td>83.0</td>\n",
       "      <td>55.0</td>\n",
       "      <td>9.0</td>\n",
       "      <td>3</td>\n",
       "      <td>4</td>\n",
       "      <td>1</td>\n",
       "      <td>1</td>\n",
       "    </tr>\n",
       "    <tr>\n",
       "      <th>106</th>\n",
       "      <td>Орджоникидзевский (левый берег)</td>\n",
       "      <td>2000</td>\n",
       "      <td>72.0</td>\n",
       "      <td>45.0</td>\n",
       "      <td>6.0</td>\n",
       "      <td>3</td>\n",
       "      <td>4</td>\n",
       "      <td>1</td>\n",
       "      <td>1</td>\n",
       "    </tr>\n",
       "    <tr>\n",
       "      <th>110</th>\n",
       "      <td>Ленинский</td>\n",
       "      <td>3790</td>\n",
       "      <td>55.8</td>\n",
       "      <td>32.0</td>\n",
       "      <td>10.0</td>\n",
       "      <td>2</td>\n",
       "      <td>5</td>\n",
       "      <td>2</td>\n",
       "      <td>1</td>\n",
       "    </tr>\n",
       "    <tr>\n",
       "      <th>111</th>\n",
       "      <td>Ленинский</td>\n",
       "      <td>5490</td>\n",
       "      <td>75.8</td>\n",
       "      <td>54.0</td>\n",
       "      <td>10.0</td>\n",
       "      <td>4</td>\n",
       "      <td>4</td>\n",
       "      <td>1</td>\n",
       "      <td>1</td>\n",
       "    </tr>\n",
       "    <tr>\n",
       "      <th>112</th>\n",
       "      <td>Орджоникидзевский</td>\n",
       "      <td>4450</td>\n",
       "      <td>63.0</td>\n",
       "      <td>45.0</td>\n",
       "      <td>8.0</td>\n",
       "      <td>1</td>\n",
       "      <td>5</td>\n",
       "      <td>2</td>\n",
       "      <td>1</td>\n",
       "    </tr>\n",
       "    <tr>\n",
       "      <th>114</th>\n",
       "      <td>Орджоникидзевский (левый берег)</td>\n",
       "      <td>2300</td>\n",
       "      <td>65.0</td>\n",
       "      <td>45.0</td>\n",
       "      <td>6.0</td>\n",
       "      <td>4</td>\n",
       "      <td>4</td>\n",
       "      <td>1</td>\n",
       "      <td>1</td>\n",
       "    </tr>\n",
       "    <tr>\n",
       "      <th>116</th>\n",
       "      <td>Правобережный</td>\n",
       "      <td>4300</td>\n",
       "      <td>63.0</td>\n",
       "      <td>42.0</td>\n",
       "      <td>9.0</td>\n",
       "      <td>5</td>\n",
       "      <td>5</td>\n",
       "      <td>1</td>\n",
       "      <td>1</td>\n",
       "    </tr>\n",
       "    <tr>\n",
       "      <th>117</th>\n",
       "      <td>Ленинский</td>\n",
       "      <td>5300</td>\n",
       "      <td>66.7</td>\n",
       "      <td>43.0</td>\n",
       "      <td>9.0</td>\n",
       "      <td>3</td>\n",
       "      <td>5</td>\n",
       "      <td>1</td>\n",
       "      <td>1</td>\n",
       "    </tr>\n",
       "    <tr>\n",
       "      <th>121</th>\n",
       "      <td>Ленинский</td>\n",
       "      <td>6400</td>\n",
       "      <td>76.4</td>\n",
       "      <td>58.0</td>\n",
       "      <td>12.0</td>\n",
       "      <td>5</td>\n",
       "      <td>5</td>\n",
       "      <td>1</td>\n",
       "      <td>1</td>\n",
       "    </tr>\n",
       "    <tr>\n",
       "      <th>125</th>\n",
       "      <td>Правобережный</td>\n",
       "      <td>4300</td>\n",
       "      <td>56.4</td>\n",
       "      <td>43.0</td>\n",
       "      <td>6.0</td>\n",
       "      <td>2</td>\n",
       "      <td>5</td>\n",
       "      <td>2</td>\n",
       "      <td>1</td>\n",
       "    </tr>\n",
       "    <tr>\n",
       "      <th>130</th>\n",
       "      <td>Правобережный</td>\n",
       "      <td>4300</td>\n",
       "      <td>56.4</td>\n",
       "      <td>43.0</td>\n",
       "      <td>6.0</td>\n",
       "      <td>2</td>\n",
       "      <td>5</td>\n",
       "      <td>2</td>\n",
       "      <td>1</td>\n",
       "    </tr>\n",
       "    <tr>\n",
       "      <th>135</th>\n",
       "      <td>Орджоникидзевский</td>\n",
       "      <td>4190</td>\n",
       "      <td>54.1</td>\n",
       "      <td>32.0</td>\n",
       "      <td>9.0</td>\n",
       "      <td>4</td>\n",
       "      <td>5</td>\n",
       "      <td>2</td>\n",
       "      <td>1</td>\n",
       "    </tr>\n",
       "    <tr>\n",
       "      <th>154</th>\n",
       "      <td>Ленинский</td>\n",
       "      <td>5100</td>\n",
       "      <td>65.3</td>\n",
       "      <td>38.0</td>\n",
       "      <td>18.0</td>\n",
       "      <td>1</td>\n",
       "      <td>4</td>\n",
       "      <td>2</td>\n",
       "      <td>1</td>\n",
       "    </tr>\n",
       "    <tr>\n",
       "      <th>164</th>\n",
       "      <td>Правобережный</td>\n",
       "      <td>6300</td>\n",
       "      <td>75.0</td>\n",
       "      <td>45.0</td>\n",
       "      <td>8.0</td>\n",
       "      <td>2</td>\n",
       "      <td>3</td>\n",
       "      <td>1</td>\n",
       "      <td>1</td>\n",
       "    </tr>\n",
       "    <tr>\n",
       "      <th>172</th>\n",
       "      <td>Ленинский</td>\n",
       "      <td>4150</td>\n",
       "      <td>59.1</td>\n",
       "      <td>32.4</td>\n",
       "      <td>9.0</td>\n",
       "      <td>2</td>\n",
       "      <td>5</td>\n",
       "      <td>2</td>\n",
       "      <td>1</td>\n",
       "    </tr>\n",
       "    <tr>\n",
       "      <th>176</th>\n",
       "      <td>Ленинский</td>\n",
       "      <td>6050</td>\n",
       "      <td>73.9</td>\n",
       "      <td>50.0</td>\n",
       "      <td>12.0</td>\n",
       "      <td>4</td>\n",
       "      <td>5</td>\n",
       "      <td>1</td>\n",
       "      <td>1</td>\n",
       "    </tr>\n",
       "    <tr>\n",
       "      <th>180</th>\n",
       "      <td>Ленинский</td>\n",
       "      <td>6200</td>\n",
       "      <td>72.8</td>\n",
       "      <td>44.0</td>\n",
       "      <td>8.0</td>\n",
       "      <td>6</td>\n",
       "      <td>6</td>\n",
       "      <td>1</td>\n",
       "      <td>1</td>\n",
       "    </tr>\n",
       "    <tr>\n",
       "      <th>182</th>\n",
       "      <td>Ленинский (Левый берег)</td>\n",
       "      <td>3500</td>\n",
       "      <td>64.7</td>\n",
       "      <td>38.0</td>\n",
       "      <td>7.0</td>\n",
       "      <td>4</td>\n",
       "      <td>5</td>\n",
       "      <td>1</td>\n",
       "      <td>1</td>\n",
       "    </tr>\n",
       "    <tr>\n",
       "      <th>196</th>\n",
       "      <td>Ленинский</td>\n",
       "      <td>4890</td>\n",
       "      <td>51.7</td>\n",
       "      <td>30.0</td>\n",
       "      <td>8.0</td>\n",
       "      <td>3</td>\n",
       "      <td>4</td>\n",
       "      <td>2</td>\n",
       "      <td>1</td>\n",
       "    </tr>\n",
       "  </tbody>\n",
       "</table>\n",
       "</div>"
      ],
      "text/plain": [
       "                                area  price  o_m2  j_m2  k_m2  floor  \\\n",
       "16                     Правобережный   4400  65.0  41.0   6.0      5   \n",
       "25                 Орджоникидзевский   3600  65.0  45.0   9.0      5   \n",
       "30                     Правобережный   3350  55.7  41.0   7.0      1   \n",
       "39                         Ленинский   5100  83.0  55.0   9.0      3   \n",
       "41                         Ленинский   3750  77.0  48.0   9.0      5   \n",
       "50                 Орджоникидзевский   2800  98.0  72.4   7.0      4   \n",
       "57                 Орджоникидзевский   3700  58.0  38.0  10.0      1   \n",
       "62                     Правобережный   3990  63.0  42.0   9.0      5   \n",
       "64                     Правобережный   3500  60.0  39.0   7.0      4   \n",
       "78                 Орджоникидзевский   3699  65.0  42.0   9.0      3   \n",
       "87                 Орджоникидзевский   5100  68.5  43.0   9.0      2   \n",
       "105                        Ленинский   5600  83.0  55.0   9.0      3   \n",
       "106  Орджоникидзевский (левый берег)   2000  72.0  45.0   6.0      3   \n",
       "110                        Ленинский   3790  55.8  32.0  10.0      2   \n",
       "111                        Ленинский   5490  75.8  54.0  10.0      4   \n",
       "112                Орджоникидзевский   4450  63.0  45.0   8.0      1   \n",
       "114  Орджоникидзевский (левый берег)   2300  65.0  45.0   6.0      4   \n",
       "116                    Правобережный   4300  63.0  42.0   9.0      5   \n",
       "117                        Ленинский   5300  66.7  43.0   9.0      3   \n",
       "121                        Ленинский   6400  76.4  58.0  12.0      5   \n",
       "125                    Правобережный   4300  56.4  43.0   6.0      2   \n",
       "130                    Правобережный   4300  56.4  43.0   6.0      2   \n",
       "135                Орджоникидзевский   4190  54.1  32.0   9.0      4   \n",
       "154                        Ленинский   5100  65.3  38.0  18.0      1   \n",
       "164                    Правобережный   6300  75.0  45.0   8.0      2   \n",
       "172                        Ленинский   4150  59.1  32.4   9.0      2   \n",
       "176                        Ленинский   6050  73.9  50.0  12.0      4   \n",
       "180                        Ленинский   6200  72.8  44.0   8.0      6   \n",
       "182          Ленинский (Левый берег)   3500  64.7  38.0   7.0      4   \n",
       "196                        Ленинский   4890  51.7  30.0   8.0      3   \n",
       "\n",
       "     sum_floor  fcluster  KMeans  \n",
       "16           5         1       1  \n",
       "25           5         1       1  \n",
       "30           5         2       1  \n",
       "39           4         1       1  \n",
       "41           5         1       1  \n",
       "50           5         1       1  \n",
       "57          10         5       1  \n",
       "62           5         1       1  \n",
       "64           5         1       1  \n",
       "78           9         5       1  \n",
       "87           5         1       1  \n",
       "105          4         1       1  \n",
       "106          4         1       1  \n",
       "110          5         2       1  \n",
       "111          4         1       1  \n",
       "112          5         2       1  \n",
       "114          4         1       1  \n",
       "116          5         1       1  \n",
       "117          5         1       1  \n",
       "121          5         1       1  \n",
       "125          5         2       1  \n",
       "130          5         2       1  \n",
       "135          5         2       1  \n",
       "154          4         2       1  \n",
       "164          3         1       1  \n",
       "172          5         2       1  \n",
       "176          5         1       1  \n",
       "180          6         1       1  \n",
       "182          5         1       1  \n",
       "196          4         2       1  "
      ]
     },
     "execution_count": 57,
     "metadata": {},
     "output_type": "execute_result"
    }
   ],
   "source": [
    "#Список объектов попавших в кластер:\n",
    "data[data['KMeans']==1]"
   ]
  },
  {
   "cell_type": "markdown",
   "metadata": {},
   "source": [
    "### Выводы:\n"
   ]
  },
  {
   "cell_type": "markdown",
   "metadata": {},
   "source": [
    "- 1. Сложно сказать по качеству полученной разбивки кластеров, т.к очень большая путаница;\n",
    "- 2. Орджоникидзевский (левый берег) - не смог предсказать.\n",
    "- 3. Ленинский - был соотнесён в 1 кластере, но метод не смог отделить эти значения от остальных.\n",
    "- 4. Правобережный - Плохо соотнёс. район разбит по разным кластерам."
   ]
  }
 ],
 "metadata": {
  "kernelspec": {
   "display_name": "base",
   "language": "python",
   "name": "python3"
  },
  "language_info": {
   "codemirror_mode": {
    "name": "ipython",
    "version": 3
   },
   "file_extension": ".py",
   "mimetype": "text/x-python",
   "name": "python",
   "nbconvert_exporter": "python",
   "pygments_lexer": "ipython3",
   "version": "3.9.12"
  },
  "orig_nbformat": 4
 },
 "nbformat": 4,
 "nbformat_minor": 2
}
