{
 "cells": [
  {
   "cell_type": "code",
   "execution_count": null,
   "metadata": {},
   "outputs": [],
   "source": [
    "from bs4 import BeautifulSoup\n",
    "import urllib\n",
    "import pandas as pd\n",
    "import numpy as np\n",
    "import matplotlib.pyplot as plt\n",
    "import requests\n",
    "import sqlite3\n",
    "import seaborn as sns"
   ]
  },
  {
   "cell_type": "markdown",
   "metadata": {},
   "source": [
    "# Задачи:\n",
    "- 1) Обучить модель(на выбор), для предсказания цены квартиры в г.Магнитогорск;\n",
    "- 2) Сделать для модели Rest api, при подачи параметров в js, модель должна выдавать цену квартиры."
   ]
  },
  {
   "cell_type": "markdown",
   "metadata": {},
   "source": [
    "### Итог:\n",
    "##### 1. При анализе данных было установленно:\n",
    "- Самый дорогостоящий район это Орджоникидзевский, самый дешовый Орджоникидзевский (левый берег);\n",
    "- Самое дорогостоящие риэлтерское агенство это \"Агентство Недвижимости Ключи\", самое дешовое;\n",
    "- Самые дорогие квартиры продаются на 4 этаже, самые дешовые на 1-ом;\n",
    "##### 2. Обучение модели и Rest Api:\n",
    "- Прежде чем перейти к обучению было установлено, что данные подчиняются нормальному закону распределения;\n",
    "- Так же было установленно, что данные коррелированны. Это подходило нам по условию, т.к мы работаем с линейной задачей;\n",
    "- Первым решением было принято, обучить модель линейной регрессии и проверить её качество относительно target, по метрике MSE(СКО), которая составила MSE = 1865900.46;\n",
    "- После полученного, первого результата приняли решение взять первую модель за Besline и обучить новый алгоритм, выбор пал на CatBoost;\n",
    "- Резуьтаты получились лучше, чем в первый раз (MSE(СКО) = 834098.4), было решено использовать CatBoost для предсказания квартир;\n",
    "- Сервис Rest Api выполнил свою задачу, при общание к локальному хосту с параметрами квартиры, обратно мы получаем её цену."
   ]
  },
  {
   "attachments": {},
   "cell_type": "markdown",
   "metadata": {},
   "source": [
    "### 1. Выгрузим данные по квартирам используя url"
   ]
  },
  {
   "cell_type": "code",
   "execution_count": 3,
   "metadata": {},
   "outputs": [],
   "source": [
    "url = \"http://citystar.ru/detal.htm?d=43&nm=\"\n",
    "r = requests.get(url)\n",
    "bs_page = BeautifulSoup(r.content)"
   ]
  },
  {
   "cell_type": "code",
   "execution_count": 4,
   "metadata": {
    "tags": []
   },
   "outputs": [],
   "source": [
    "bs_table = bs_page.find('table', attrs={'class': 'tbrd'})\n",
    "bs_str = bs_table.find_all('tr', attrs={'class': 'tbb'})\n",
    "# table = [i.find_all('td', attrs={'class': ['ttx','tcb']}) for i in bs_str]\n",
    "cleaned_table = [[j.text.strip() for j in i.find_all('td', attrs={'class': ['ttx','tcb']})] for i in bs_str]\n",
    "cleaned_table = list(filter(None, cleaned_table))\n",
    "# cleaned_table"
   ]
  },
  {
   "cell_type": "markdown",
   "metadata": {},
   "source": [
    "### 2. Сделаем предобработку данных"
   ]
  },
  {
   "cell_type": "code",
   "execution_count": 5,
   "metadata": {},
   "outputs": [
    {
     "data": {
      "text/html": [
       "<div>\n",
       "<style scoped>\n",
       "    .dataframe tbody tr th:only-of-type {\n",
       "        vertical-align: middle;\n",
       "    }\n",
       "\n",
       "    .dataframe tbody tr th {\n",
       "        vertical-align: top;\n",
       "    }\n",
       "\n",
       "    .dataframe thead th {\n",
       "        text-align: right;\n",
       "    }\n",
       "</style>\n",
       "<table border=\"1\" class=\"dataframe\">\n",
       "  <thead>\n",
       "    <tr style=\"text-align: right;\">\n",
       "      <th></th>\n",
       "      <th>title</th>\n",
       "      <th>area</th>\n",
       "      <th>adress</th>\n",
       "      <th>floor</th>\n",
       "      <th>sum_floor</th>\n",
       "      <th>o_m2</th>\n",
       "      <th>j_m2</th>\n",
       "      <th>k_m2</th>\n",
       "      <th>price</th>\n",
       "      <th>agency</th>\n",
       "    </tr>\n",
       "  </thead>\n",
       "  <tbody>\n",
       "    <tr>\n",
       "      <th>0</th>\n",
       "      <td>Двухкомнатная брежневка</td>\n",
       "      <td>Правобережный</td>\n",
       "      <td>Советская 137</td>\n",
       "      <td>1</td>\n",
       "      <td>5</td>\n",
       "      <td>44.0</td>\n",
       "      <td>28.0</td>\n",
       "      <td>6.0</td>\n",
       "      <td>3250</td>\n",
       "      <td>None</td>\n",
       "    </tr>\n",
       "    <tr>\n",
       "      <th>1</th>\n",
       "      <td>Однокомнатная нестандартная</td>\n",
       "      <td>Орджоникидзевский</td>\n",
       "      <td>Карла Маркса 224</td>\n",
       "      <td>5</td>\n",
       "      <td>16</td>\n",
       "      <td>41.1</td>\n",
       "      <td>20.0</td>\n",
       "      <td>12.0</td>\n",
       "      <td>3500</td>\n",
       "      <td>None</td>\n",
       "    </tr>\n",
       "    <tr>\n",
       "      <th>2</th>\n",
       "      <td>Трехкомнатная нестандартная</td>\n",
       "      <td>Орджоникидзевский</td>\n",
       "      <td>Ленина пр-т 129</td>\n",
       "      <td>5</td>\n",
       "      <td>16</td>\n",
       "      <td>105.0</td>\n",
       "      <td>75.0</td>\n",
       "      <td>14.0</td>\n",
       "      <td>7700</td>\n",
       "      <td>None</td>\n",
       "    </tr>\n",
       "    <tr>\n",
       "      <th>3</th>\n",
       "      <td>Двухкомнатная старой планировки</td>\n",
       "      <td>Ленинский</td>\n",
       "      <td>Московская 37</td>\n",
       "      <td>1</td>\n",
       "      <td>3</td>\n",
       "      <td>48.0</td>\n",
       "      <td>33.0</td>\n",
       "      <td>8.0</td>\n",
       "      <td>2900</td>\n",
       "      <td>None</td>\n",
       "    </tr>\n",
       "    <tr>\n",
       "      <th>4</th>\n",
       "      <td>Трехкомнатная свердловский вариант</td>\n",
       "      <td>Орджоникидзевский</td>\n",
       "      <td>Ворошилова 13/1</td>\n",
       "      <td>4</td>\n",
       "      <td>13</td>\n",
       "      <td>65.0</td>\n",
       "      <td>43.0</td>\n",
       "      <td>10.0</td>\n",
       "      <td>4450</td>\n",
       "      <td>None</td>\n",
       "    </tr>\n",
       "  </tbody>\n",
       "</table>\n",
       "</div>"
      ],
      "text/plain": [
       "                                title               area            adress  \\\n",
       "0             Двухкомнатная брежневка      Правобережный     Советская 137   \n",
       "1         Однокомнатная нестандартная  Орджоникидзевский  Карла Маркса 224   \n",
       "2         Трехкомнатная нестандартная  Орджоникидзевский   Ленина пр-т 129   \n",
       "3     Двухкомнатная старой планировки          Ленинский     Московская 37   \n",
       "4  Трехкомнатная свердловский вариант  Орджоникидзевский   Ворошилова 13/1   \n",
       "\n",
       "   floor  sum_floor   o_m2  j_m2  k_m2  price agency  \n",
       "0      1          5   44.0  28.0   6.0   3250   None  \n",
       "1      5         16   41.1  20.0  12.0   3500   None  \n",
       "2      5         16  105.0  75.0  14.0   7700   None  \n",
       "3      1          3   48.0  33.0   8.0   2900   None  \n",
       "4      4         13   65.0  43.0  10.0   4450   None  "
      ]
     },
     "execution_count": 5,
     "metadata": {},
     "output_type": "execute_result"
    }
   ],
   "source": [
    "df = pd.DataFrame(cleaned_table, columns=['Null','date','title','area','adress','floor','o_m2','j_m2','k_m2','komment','price','phone','agency','E-mail'])\n",
    "df['area'] = df['area'].replace('Ордженикидзевский', 'Орджоникидзевский')\n",
    "df['area'] = df['area'].replace('', None)\n",
    "df['area'] = df['area'].replace('ленинский', 'Ленинский')\n",
    "df['agency'] = df['agency'].replace('', None)\n",
    "df['o_m2'] = df['o_m2'].astype('float')\n",
    "df['j_m2'] = df['j_m2'].astype('float')\n",
    "df['k_m2'] = df['k_m2'].astype('float')\n",
    "df['price'] = df['price'].astype('int')\n",
    "df['price'] = df['price'].astype('int')\n",
    "df[['floor', 'sum_floor']] = df['floor']. str.split('/', 2 , expand= True ).astype('int')\n",
    "df1 = df[['title','area','adress','floor','sum_floor','o_m2','j_m2','k_m2','price','agency']]\n",
    "df1.head()"
   ]
  },
  {
   "attachments": {},
   "cell_type": "markdown",
   "metadata": {},
   "source": [
    "### 3. Проведём предворительный анализ данных EDA"
   ]
  },
  {
   "cell_type": "code",
   "execution_count": 6,
   "metadata": {},
   "outputs": [
    {
     "name": "stdout",
     "output_type": "stream",
     "text": [
      "<class 'pandas.core.frame.DataFrame'>\n",
      "RangeIndex: 100 entries, 0 to 99\n",
      "Data columns (total 10 columns):\n",
      " #   Column     Non-Null Count  Dtype  \n",
      "---  ------     --------------  -----  \n",
      " 0   title      100 non-null    object \n",
      " 1   area       63 non-null     object \n",
      " 2   adress     100 non-null    object \n",
      " 3   floor      100 non-null    int32  \n",
      " 4   sum_floor  100 non-null    int32  \n",
      " 5   o_m2       100 non-null    float64\n",
      " 6   j_m2       100 non-null    float64\n",
      " 7   k_m2       100 non-null    float64\n",
      " 8   price      100 non-null    int32  \n",
      " 9   agency     78 non-null     object \n",
      "dtypes: float64(3), int32(3), object(4)\n",
      "memory usage: 6.8+ KB\n"
     ]
    }
   ],
   "source": [
    "df1.info()"
   ]
  },
  {
   "cell_type": "markdown",
   "metadata": {},
   "source": [
    "#### 3.1 Посмотрим на кол-во пропусков в данных"
   ]
  },
  {
   "cell_type": "code",
   "execution_count": 9,
   "metadata": {},
   "outputs": [
    {
     "name": "stdout",
     "output_type": "stream",
     "text": [
      "agency_Nan: 22, area_Nan: 37\n"
     ]
    },
    {
     "data": {
      "image/png": "[encoded data removed]",
      "text/plain": [
       "<Figure size 800x400 with 2 Axes>"
      ]
     },
     "metadata": {},
     "output_type": "display_data"
    }
   ],
   "source": [
    "#Поиск пропусков с помощью графика\n",
    "plt.figure(figsize=(8,4))\n",
    "sns.heatmap(df1.isna().transpose(),\n",
    "           cbar_kws={'label':'Missing Data'})\n",
    "a= df1['agency'].isna().sum()\n",
    "b= df1['area'].isna().sum()\n",
    "print(f'agency_Nan: {a}'+','+' '+ f'area_Nan: {b}')"
   ]
  },
  {
   "cell_type": "markdown",
   "metadata": {},
   "source": [
    "- Видим, что пропуски имеются только в коллонках area и agency"
   ]
  },
  {
   "cell_type": "markdown",
   "metadata": {},
   "source": [
    "#### 3.2 Проведём анализ цены в разбивке по району, агенству, этажу"
   ]
  },
  {
   "cell_type": "code",
   "execution_count": 11,
   "metadata": {},
   "outputs": [
    {
     "data": {
      "text/html": [
       "<div>\n",
       "<style scoped>\n",
       "    .dataframe tbody tr th:only-of-type {\n",
       "        vertical-align: middle;\n",
       "    }\n",
       "\n",
       "    .dataframe tbody tr th {\n",
       "        vertical-align: top;\n",
       "    }\n",
       "\n",
       "    .dataframe thead th {\n",
       "        text-align: right;\n",
       "    }\n",
       "</style>\n",
       "<table border=\"1\" class=\"dataframe\">\n",
       "  <thead>\n",
       "    <tr style=\"text-align: right;\">\n",
       "      <th></th>\n",
       "      <th>min</th>\n",
       "      <th>max</th>\n",
       "      <th>mean</th>\n",
       "    </tr>\n",
       "    <tr>\n",
       "      <th>area</th>\n",
       "      <th></th>\n",
       "      <th></th>\n",
       "      <th></th>\n",
       "    </tr>\n",
       "  </thead>\n",
       "  <tbody>\n",
       "    <tr>\n",
       "      <th>Ленинский</th>\n",
       "      <td>1600</td>\n",
       "      <td>6400</td>\n",
       "      <td>4524.29</td>\n",
       "    </tr>\n",
       "    <tr>\n",
       "      <th>Ленинский (Левый берег)</th>\n",
       "      <td>3500</td>\n",
       "      <td>3500</td>\n",
       "      <td>3500.00</td>\n",
       "    </tr>\n",
       "    <tr>\n",
       "      <th>Орджоникидзевский</th>\n",
       "      <td>2406</td>\n",
       "      <td>8200</td>\n",
       "      <td>4533.10</td>\n",
       "    </tr>\n",
       "    <tr>\n",
       "      <th>Орджоникидзевский (левый берег)</th>\n",
       "      <td>2000</td>\n",
       "      <td>2350</td>\n",
       "      <td>2216.67</td>\n",
       "    </tr>\n",
       "    <tr>\n",
       "      <th>Правобережный</th>\n",
       "      <td>1790</td>\n",
       "      <td>9055</td>\n",
       "      <td>3878.21</td>\n",
       "    </tr>\n",
       "  </tbody>\n",
       "</table>\n",
       "</div>"
      ],
      "text/plain": [
       "                                  min   max     mean\n",
       "area                                                \n",
       "Ленинский                        1600  6400  4524.29\n",
       "Ленинский (Левый берег)          3500  3500  3500.00\n",
       "Орджоникидзевский                2406  8200  4533.10\n",
       "Орджоникидзевский (левый берег)  2000  2350  2216.67\n",
       "Правобережный                    1790  9055  3878.21"
      ]
     },
     "execution_count": 11,
     "metadata": {},
     "output_type": "execute_result"
    }
   ],
   "source": [
    "df1.groupby('area')['price'].agg(['min','max','mean']).round(2)"
   ]
  },
  {
   "cell_type": "markdown",
   "metadata": {},
   "source": [
    "- Самый дорогой район для покупки квартиры в городе это \"Орджоникидзевский\"\n",
    "- Самый дешовый район это \"Орджоникидзевский (левый берег)\""
   ]
  },
  {
   "cell_type": "code",
   "execution_count": 12,
   "metadata": {},
   "outputs": [
    {
     "data": {
      "text/html": [
       "<div>\n",
       "<style scoped>\n",
       "    .dataframe tbody tr th:only-of-type {\n",
       "        vertical-align: middle;\n",
       "    }\n",
       "\n",
       "    .dataframe tbody tr th {\n",
       "        vertical-align: top;\n",
       "    }\n",
       "\n",
       "    .dataframe thead th {\n",
       "        text-align: right;\n",
       "    }\n",
       "</style>\n",
       "<table border=\"1\" class=\"dataframe\">\n",
       "  <thead>\n",
       "    <tr style=\"text-align: right;\">\n",
       "      <th></th>\n",
       "      <th>min</th>\n",
       "      <th>max</th>\n",
       "      <th>mean</th>\n",
       "    </tr>\n",
       "    <tr>\n",
       "      <th>agency</th>\n",
       "      <th></th>\n",
       "      <th></th>\n",
       "      <th></th>\n",
       "    </tr>\n",
       "  </thead>\n",
       "  <tbody>\n",
       "    <tr>\n",
       "      <th>\"Шанс\"</th>\n",
       "      <td>2900</td>\n",
       "      <td>5300</td>\n",
       "      <td>4166.67</td>\n",
       "    </tr>\n",
       "    <tr>\n",
       "      <th>START</th>\n",
       "      <td>2970</td>\n",
       "      <td>2970</td>\n",
       "      <td>2970.00</td>\n",
       "    </tr>\n",
       "    <tr>\n",
       "      <th>АН «Монтера Курорт»</th>\n",
       "      <td>2500</td>\n",
       "      <td>4300</td>\n",
       "      <td>3475.00</td>\n",
       "    </tr>\n",
       "    <tr>\n",
       "      <th>Агентство Недвижимости Ключи</th>\n",
       "      <td>2570</td>\n",
       "      <td>8200</td>\n",
       "      <td>5586.67</td>\n",
       "    </tr>\n",
       "    <tr>\n",
       "      <th>Визит</th>\n",
       "      <td>1790</td>\n",
       "      <td>4590</td>\n",
       "      <td>3376.67</td>\n",
       "    </tr>\n",
       "  </tbody>\n",
       "</table>\n",
       "</div>"
      ],
      "text/plain": [
       "                               min   max     mean\n",
       "agency                                           \n",
       "\"Шанс\"                        2900  5300  4166.67\n",
       "START                         2970  2970  2970.00\n",
       "АН «Монтера Курорт»           2500  4300  3475.00\n",
       "Агентство Недвижимости Ключи  2570  8200  5586.67\n",
       "Визит                         1790  4590  3376.67"
      ]
     },
     "execution_count": 12,
     "metadata": {},
     "output_type": "execute_result"
    }
   ],
   "source": [
    "df1.groupby('agency')['price'].agg(['min','max','mean']).head().round(2)"
   ]
  },
  {
   "cell_type": "markdown",
   "metadata": {},
   "source": [
    "- Самый дорогой чек за оказываемую реэлтерскую услугу у организации \"Агентство Недвижимости Ключи\";\n",
    "- Самый минимальный у компании \"Визит\";"
   ]
  },
  {
   "cell_type": "code",
   "execution_count": 13,
   "metadata": {},
   "outputs": [
    {
     "data": {
      "text/html": [
       "<div>\n",
       "<style scoped>\n",
       "    .dataframe tbody tr th:only-of-type {\n",
       "        vertical-align: middle;\n",
       "    }\n",
       "\n",
       "    .dataframe tbody tr th {\n",
       "        vertical-align: top;\n",
       "    }\n",
       "\n",
       "    .dataframe thead th {\n",
       "        text-align: right;\n",
       "    }\n",
       "</style>\n",
       "<table border=\"1\" class=\"dataframe\">\n",
       "  <thead>\n",
       "    <tr style=\"text-align: right;\">\n",
       "      <th></th>\n",
       "      <th>min</th>\n",
       "      <th>max</th>\n",
       "      <th>mean</th>\n",
       "    </tr>\n",
       "    <tr>\n",
       "      <th>floor</th>\n",
       "      <th></th>\n",
       "      <th></th>\n",
       "      <th></th>\n",
       "    </tr>\n",
       "  </thead>\n",
       "  <tbody>\n",
       "    <tr>\n",
       "      <th>1</th>\n",
       "      <td>2</td>\n",
       "      <td>5100</td>\n",
       "      <td>3026.60</td>\n",
       "    </tr>\n",
       "    <tr>\n",
       "      <th>2</th>\n",
       "      <td>1600</td>\n",
       "      <td>6300</td>\n",
       "      <td>3582.86</td>\n",
       "    </tr>\n",
       "    <tr>\n",
       "      <th>3</th>\n",
       "      <td>2000</td>\n",
       "      <td>6800</td>\n",
       "      <td>3863.85</td>\n",
       "    </tr>\n",
       "    <tr>\n",
       "      <th>4</th>\n",
       "      <td>2300</td>\n",
       "      <td>8000</td>\n",
       "      <td>4485.09</td>\n",
       "    </tr>\n",
       "    <tr>\n",
       "      <th>5</th>\n",
       "      <td>1950</td>\n",
       "      <td>7700</td>\n",
       "      <td>3893.33</td>\n",
       "    </tr>\n",
       "  </tbody>\n",
       "</table>\n",
       "</div>"
      ],
      "text/plain": [
       "        min   max     mean\n",
       "floor                     \n",
       "1         2  5100  3026.60\n",
       "2      1600  6300  3582.86\n",
       "3      2000  6800  3863.85\n",
       "4      2300  8000  4485.09\n",
       "5      1950  7700  3893.33"
      ]
     },
     "execution_count": 13,
     "metadata": {},
     "output_type": "execute_result"
    }
   ],
   "source": [
    "df1.groupby('floor')['price'].agg(['min','max','mean']).head().round(2)"
   ]
  },
  {
   "cell_type": "markdown",
   "metadata": {},
   "source": [
    "- Квартира на 4 этаже стоит дороже всего;\n",
    "- Квартитра на 1 этаже самая дешовая;"
   ]
  },
  {
   "cell_type": "markdown",
   "metadata": {},
   "source": [
    "#### 3.3 Посмотрим на плотность распределения цен"
   ]
  },
  {
   "cell_type": "code",
   "execution_count": 15,
   "metadata": {},
   "outputs": [
    {
     "name": "stdout",
     "output_type": "stream",
     "text": [
      "[2, 500, 1600, 1700, 1790, 1800, 1850, 1950, 2000, 2000, 2050, 2150, 2190, 2300, 2350, 2400, 2400, 2406, 2450, 2450, 2500, 2500, 2500, 2550, 2570, 2600, 2700, 2700, 2750, 2750, 2800, 2800, 2850, 2900, 2900, 2900, 2900, 2950, 2970, 3050, 3150, 3250, 3300, 3350, 3400, 3400, 3400, 3400, 3400, 3490, 3500, 3500, 3600, 3600, 3700, 3790, 3800, 3800, 4000, 4150, 4150, 4190, 4200, 4250, 4300, 4300, 4300, 4300, 4300, 4300, 4400, 4450, 4450, 4490, 4590, 4890, 4990, 5000, 5100, 5200, 5200, 5300, 5490, 5600, 5600, 5990, 6000, 6050, 6200, 6200, 6300, 6300, 6300, 6400, 6800, 7700, 8000, 8000, 8200, 9055]\n",
      "median - 3495.0\n",
      "mean - 3852.93\n",
      "mode -4300\n"
     ]
    },
    {
     "data": {
      "text/plain": [
       "<Figure size 800x400 with 0 Axes>"
      ]
     },
     "metadata": {},
     "output_type": "display_data"
    },
    {
     "data": {
      "image/png": "[encoded data removed]",
      "text/plain": [
       "<Figure size 500x500 with 1 Axes>"
      ]
     },
     "metadata": {},
     "output_type": "display_data"
    }
   ],
   "source": [
    "#Проверка распределения target\n",
    "from scipy import stats\n",
    "plt.figure(figsize=(8,4))\n",
    "x =np.array(df1['price'])\n",
    "print(sorted(x))\n",
    "print(f'median - {np.quantile(x, q = 0.5)}\\nmean - {np.mean(x)}\\nmode -{stats.mode(x)[0][0]}' )\n",
    "sns.displot(x, bins=10);"
   ]
  },
  {
   "cell_type": "code",
   "execution_count": 61,
   "metadata": {},
   "outputs": [
    {
     "data": {
      "text/plain": [
       "Text(0.5, 0.98, 'Describution of price')"
      ]
     },
     "execution_count": 61,
     "metadata": {},
     "output_type": "execute_result"
    },
    {
     "data": {
      "image/png": "[encoded data removed]",
      "text/plain": [
       "<Figure size 800x400 with 2 Axes>"
      ]
     },
     "metadata": {},
     "output_type": "display_data"
    }
   ],
   "source": [
    "plt.figure(figsize=(8,4))\n",
    "\n",
    "plt.subplot(121)\n",
    "df1['price'].hist(density=False, bins=60)\n",
    "plt.ylabel('count')\n",
    "plt.xlabel('price')\n",
    "\n",
    "plt.subplot(122)\n",
    "sns.kdeplot(df1['price'], shade=True, legend=False)\n",
    "plt.xlabel('price')\n",
    "\n",
    "plt.suptitle('Describution of price')"
   ]
  },
  {
   "cell_type": "code",
   "execution_count": 62,
   "metadata": {},
   "outputs": [
    {
     "name": "stdout",
     "output_type": "stream",
     "text": [
      "Mean: 2995.57, Median: 2900.0, Mode: 1850\n",
      "p-value:  2.1075868517073104e-06\n"
     ]
    },
    {
     "name": "stderr",
     "output_type": "stream",
     "text": [
      "C:\\Users\\roman\\AppData\\Local\\Temp\\ipykernel_1396\\1293931371.py:10: RuntimeWarning: divide by zero encountered in log\n",
      "  plt.plot([price_mean_1] * 100000 , np.abs(np.log(y)), label='mean',linestyle=':', linewidth=4)\n",
      "C:\\Users\\roman\\AppData\\Local\\Temp\\ipykernel_1396\\1293931371.py:11: RuntimeWarning: divide by zero encountered in log\n",
      "  plt.plot([price_median_1] * 100000, np.abs(np.log(y)), label='median', linestyle='--',linewidth=4)\n",
      "C:\\Users\\roman\\AppData\\Local\\Temp\\ipykernel_1396\\1293931371.py:12: RuntimeWarning: divide by zero encountered in log\n",
      "  plt.plot([price_mode_1] * 100000, np.abs(np.log(y)), label='mode', linestyle='-.', linewidth=4)\n"
     ]
    },
    {
     "data": {
      "image/png": "[encoded data removed]",
      "text/plain": [
       "<Figure size 800x400 with 1 Axes>"
      ]
     },
     "metadata": {},
     "output_type": "display_data"
    }
   ],
   "source": [
    "plt.figure(figsize = (8, 4))\n",
    "df1['price'].hist(density=False, bins=60)\n",
    "# Истенные оценки\n",
    "price_mean_1 =  round(df1['price'].mean(), 2)\n",
    "price_median_1 =  df1['price'].median()\n",
    "price_mode_1 =  df1['price'].mode()[0]\n",
    "print(f'Mean: {price_mean_1}, Median: {price_median_1}, Mode: {price_mode_1}')\n",
    "\n",
    "y = np.linspace(0, 5, 100000)\n",
    "plt.plot([price_mean_1] * 100000 , np.abs(np.log(y)), label='mean',linestyle=':', linewidth=4)\n",
    "plt.plot([price_median_1] * 100000, np.abs(np.log(y)), label='median', linestyle='--',linewidth=4)\n",
    "plt.plot([price_mode_1] * 100000, np.abs(np.log(y)), label='mode', linestyle='-.', linewidth=4)\n",
    "\n",
    "res = stats.shapiro((df1['price']))\n",
    "print('p-value: ', res[1])\n",
    "\n",
    "plt.title('Describution of price')\n",
    "plt.legend()\n",
    "plt.show()"
   ]
  },
  {
   "cell_type": "markdown",
   "metadata": {},
   "source": [
    "- Данные разпределены относительно нормально, есть небольшое кол-во выбросов, наиболее повторяющиеся значение это 4300;"
   ]
  },
  {
   "cell_type": "markdown",
   "metadata": {},
   "source": [
    "#### 3.4 Посмотрим на кол-во выбросов в каждом параметре"
   ]
  },
  {
   "cell_type": "code",
   "execution_count": 63,
   "metadata": {},
   "outputs": [
    {
     "data": {
      "text/plain": [
       "<AxesSubplot:>"
      ]
     },
     "execution_count": 63,
     "metadata": {},
     "output_type": "execute_result"
    },
    {
     "data": {
      "image/png": "[encoded data removed]",
      "text/plain": [
       "<Figure size 800x400 with 1 Axes>"
      ]
     },
     "metadata": {},
     "output_type": "display_data"
    }
   ],
   "source": [
    "fig, ax = plt.subplots(figsize = (8,4))\n",
    "df1.boxplot(['o_m2', 'j_m2', 'k_m2','floor','sum_floor'])"
   ]
  },
  {
   "cell_type": "markdown",
   "metadata": {},
   "source": [
    "- 'o_m2', 'j_m2' - самые выбросные параметры;"
   ]
  },
  {
   "cell_type": "code",
   "execution_count": 64,
   "metadata": {},
   "outputs": [
    {
     "data": {
      "image/png": "[encoded data removed]",
      "text/plain": [
       "<Figure size 800x500 with 2 Axes>"
      ]
     },
     "metadata": {},
     "output_type": "display_data"
    }
   ],
   "source": [
    "corr = df1.corr()\n",
    "\n",
    "f, ax = plt.subplots(figsize =(8,5))\n",
    "sns.heatmap(corr, annot = True, linewidths=1.5, fmt ='.2f', ax=ax)\n",
    "plt.title('Correlation matrix')\n",
    "plt.show()"
   ]
  },
  {
   "cell_type": "markdown",
   "metadata": {},
   "source": [
    "- В первый раз после отчистки выбросов корреляция приемущественно стремилась к 0;\n",
    "- Достаточно сильная корреляция относительно нашего target(price);\n",
    "- Т.к у нас линейная зависимость, попробуем падать все имеющиеся параметры кв. на вход модели, без предварительных backtesting, далее отсеем параметры, которые модель сочтёт не нужными."
   ]
  },
  {
   "attachments": {},
   "cell_type": "markdown",
   "metadata": {},
   "source": [
    "### 4. Выгружаем выборку в базу данных"
   ]
  },
  {
   "cell_type": "code",
   "execution_count": 16,
   "metadata": {},
   "outputs": [
    {
     "data": {
      "text/html": [
       "<div>\n",
       "<style scoped>\n",
       "    .dataframe tbody tr th:only-of-type {\n",
       "        vertical-align: middle;\n",
       "    }\n",
       "\n",
       "    .dataframe tbody tr th {\n",
       "        vertical-align: top;\n",
       "    }\n",
       "\n",
       "    .dataframe thead th {\n",
       "        text-align: right;\n",
       "    }\n",
       "</style>\n",
       "<table border=\"1\" class=\"dataframe\">\n",
       "  <thead>\n",
       "    <tr style=\"text-align: right;\">\n",
       "      <th></th>\n",
       "      <th>area</th>\n",
       "      <th>price</th>\n",
       "      <th>o_m2</th>\n",
       "      <th>j_m2</th>\n",
       "      <th>k_m2</th>\n",
       "      <th>floor</th>\n",
       "      <th>sum_floor</th>\n",
       "    </tr>\n",
       "  </thead>\n",
       "  <tbody>\n",
       "    <tr>\n",
       "      <th>0</th>\n",
       "      <td>Правобережный</td>\n",
       "      <td>3250</td>\n",
       "      <td>44.0</td>\n",
       "      <td>28.0</td>\n",
       "      <td>6.0</td>\n",
       "      <td>1</td>\n",
       "      <td>5</td>\n",
       "    </tr>\n",
       "    <tr>\n",
       "      <th>1</th>\n",
       "      <td>Орджоникидзевский</td>\n",
       "      <td>3500</td>\n",
       "      <td>41.1</td>\n",
       "      <td>20.0</td>\n",
       "      <td>12.0</td>\n",
       "      <td>5</td>\n",
       "      <td>16</td>\n",
       "    </tr>\n",
       "    <tr>\n",
       "      <th>2</th>\n",
       "      <td>Орджоникидзевский</td>\n",
       "      <td>7700</td>\n",
       "      <td>105.0</td>\n",
       "      <td>75.0</td>\n",
       "      <td>14.0</td>\n",
       "      <td>5</td>\n",
       "      <td>16</td>\n",
       "    </tr>\n",
       "    <tr>\n",
       "      <th>3</th>\n",
       "      <td>Ленинский</td>\n",
       "      <td>2900</td>\n",
       "      <td>48.0</td>\n",
       "      <td>33.0</td>\n",
       "      <td>8.0</td>\n",
       "      <td>1</td>\n",
       "      <td>3</td>\n",
       "    </tr>\n",
       "    <tr>\n",
       "      <th>4</th>\n",
       "      <td>Орджоникидзевский</td>\n",
       "      <td>4450</td>\n",
       "      <td>65.0</td>\n",
       "      <td>43.0</td>\n",
       "      <td>10.0</td>\n",
       "      <td>4</td>\n",
       "      <td>13</td>\n",
       "    </tr>\n",
       "  </tbody>\n",
       "</table>\n",
       "</div>"
      ],
      "text/plain": [
       "                area  price   o_m2  j_m2  k_m2  floor  sum_floor\n",
       "0      Правобережный   3250   44.0  28.0   6.0      1          5\n",
       "1  Орджоникидзевский   3500   41.1  20.0  12.0      5         16\n",
       "2  Орджоникидзевский   7700  105.0  75.0  14.0      5         16\n",
       "3          Ленинский   2900   48.0  33.0   8.0      1          3\n",
       "4  Орджоникидзевский   4450   65.0  43.0  10.0      4         13"
      ]
     },
     "execution_count": 16,
     "metadata": {},
     "output_type": "execute_result"
    }
   ],
   "source": [
    "# Выделяем выборку\n",
    "df= df1[['area','price','o_m2', 'j_m2', 'k_m2','floor','sum_floor']]\n",
    "df.head()"
   ]
  },
  {
   "cell_type": "code",
   "execution_count": 17,
   "metadata": {},
   "outputs": [],
   "source": [
    "#Создаём базу данных\n",
    "with sqlite3.connect('E:/Работа/Белка Диджитал/database.db') as db:\n",
    "    cursor = db.cursor()\n",
    "    #query = \"\"\"CREATE TABLE IF NOT EXISTS apartments(title TEXT, area TEXT, adress TEXT, floor TEXT, o_m2 REAL, j_m2 REAL, k_m2 REAL, price INTEGER, agency TEXT)\"\"\"\n",
    "    query = \"\"\"CREATE TABLE IF NOT EXISTS apartments (area TEXT, price INTEGER, o_m2 REAL,j_m2 REAL, k_m2 REAL, floor INTEGER,sum_floor INTEGER )\"\"\"\n",
    "    cursor.execute(query)"
   ]
  },
  {
   "cell_type": "code",
   "execution_count": 18,
   "metadata": {},
   "outputs": [
    {
     "data": {
      "text/plain": [
       "100"
      ]
     },
     "execution_count": 18,
     "metadata": {},
     "output_type": "execute_result"
    }
   ],
   "source": [
    "#Подгружаем данные в базу\n",
    "con = sqlite3.connect('database.db')\n",
    "df.to_sql('apartments', con=con, if_exists='append', index=False)"
   ]
  },
  {
   "attachments": {},
   "cell_type": "markdown",
   "metadata": {},
   "source": [
    "### 5. Реализуем модель для предсказания цены квартиры в г.Магнитогорск"
   ]
  },
  {
   "cell_type": "markdown",
   "metadata": {},
   "source": [
    "- Т.к задача по своей формулировки является линейной и большой показатель коэф.корреялции Пирсона, мы реализуем модель линейной регрессии."
   ]
  },
  {
   "cell_type": "markdown",
   "metadata": {},
   "source": [
    "#### 5.1 Проведём оценку статистик параметров подав их в модель"
   ]
  },
  {
   "cell_type": "code",
   "execution_count": 19,
   "metadata": {},
   "outputs": [
    {
     "data": {
      "text/html": [
       "<table class=\"simpletable\">\n",
       "<caption>OLS Regression Results</caption>\n",
       "<tr>\n",
       "  <th>Dep. Variable:</th>            <td>y</td>        <th>  R-squared:         </th> <td>   0.568</td>\n",
       "</tr>\n",
       "<tr>\n",
       "  <th>Model:</th>                   <td>OLS</td>       <th>  Adj. R-squared:    </th> <td>   0.554</td>\n",
       "</tr>\n",
       "<tr>\n",
       "  <th>Method:</th>             <td>Least Squares</td>  <th>  F-statistic:       </th> <td>   40.43</td>\n",
       "</tr>\n",
       "<tr>\n",
       "  <th>Date:</th>             <td>Mon, 02 Oct 2023</td> <th>  Prob (F-statistic):</th> <td>2.08e-26</td>\n",
       "</tr>\n",
       "<tr>\n",
       "  <th>Time:</th>                 <td>14:44:34</td>     <th>  Log-Likelihood:    </th> <td> -1339.2</td>\n",
       "</tr>\n",
       "<tr>\n",
       "  <th>No. Observations:</th>      <td>   160</td>      <th>  AIC:               </th> <td>   2690.</td>\n",
       "</tr>\n",
       "<tr>\n",
       "  <th>Df Residuals:</th>          <td>   154</td>      <th>  BIC:               </th> <td>   2709.</td>\n",
       "</tr>\n",
       "<tr>\n",
       "  <th>Df Model:</th>              <td>     5</td>      <th>                     </th>     <td> </td>   \n",
       "</tr>\n",
       "<tr>\n",
       "  <th>Covariance Type:</th>      <td>nonrobust</td>    <th>                     </th>     <td> </td>   \n",
       "</tr>\n",
       "</table>\n",
       "<table class=\"simpletable\">\n",
       "<tr>\n",
       "    <td></td>       <th>coef</th>     <th>std err</th>      <th>t</th>      <th>P>|t|</th>  <th>[0.025</th>    <th>0.975]</th>  \n",
       "</tr>\n",
       "<tr>\n",
       "  <th>const</th> <td>  362.5389</td> <td>  254.052</td> <td>    1.427</td> <td> 0.156</td> <td> -139.338</td> <td>  864.416</td>\n",
       "</tr>\n",
       "<tr>\n",
       "  <th>x1</th>    <td>   35.8609</td> <td>    7.390</td> <td>    4.853</td> <td> 0.000</td> <td>   21.262</td> <td>   50.460</td>\n",
       "</tr>\n",
       "<tr>\n",
       "  <th>x2</th>    <td>   11.1908</td> <td>    8.660</td> <td>    1.292</td> <td> 0.198</td> <td>   -5.917</td> <td>   28.298</td>\n",
       "</tr>\n",
       "<tr>\n",
       "  <th>x3</th>    <td>   33.0059</td> <td>   32.666</td> <td>    1.010</td> <td> 0.314</td> <td>  -31.525</td> <td>   97.537</td>\n",
       "</tr>\n",
       "<tr>\n",
       "  <th>x4</th>    <td>   27.1045</td> <td>   39.104</td> <td>    0.693</td> <td> 0.489</td> <td>  -50.144</td> <td>  104.353</td>\n",
       "</tr>\n",
       "<tr>\n",
       "  <th>x5</th>    <td>   69.2045</td> <td>   29.946</td> <td>    2.311</td> <td> 0.022</td> <td>   10.047</td> <td>  128.362</td>\n",
       "</tr>\n",
       "</table>\n",
       "<table class=\"simpletable\">\n",
       "<tr>\n",
       "  <th>Omnibus:</th>       <td>27.782</td> <th>  Durbin-Watson:     </th> <td>   2.007</td>\n",
       "</tr>\n",
       "<tr>\n",
       "  <th>Prob(Omnibus):</th> <td> 0.000</td> <th>  Jarque-Bera (JB):  </th> <td>  99.611</td>\n",
       "</tr>\n",
       "<tr>\n",
       "  <th>Skew:</th>          <td>-0.556</td> <th>  Prob(JB):          </th> <td>2.34e-22</td>\n",
       "</tr>\n",
       "<tr>\n",
       "  <th>Kurtosis:</th>      <td> 6.702</td> <th>  Cond. No.          </th> <td>    211.</td>\n",
       "</tr>\n",
       "</table><br/><br/>Notes:<br/>[1] Standard Errors assume that the covariance matrix of the errors is correctly specified."
      ],
      "text/plain": [
       "<class 'statsmodels.iolib.summary.Summary'>\n",
       "\"\"\"\n",
       "                            OLS Regression Results                            \n",
       "==============================================================================\n",
       "Dep. Variable:                      y   R-squared:                       0.568\n",
       "Model:                            OLS   Adj. R-squared:                  0.554\n",
       "Method:                 Least Squares   F-statistic:                     40.43\n",
       "Date:                Mon, 02 Oct 2023   Prob (F-statistic):           2.08e-26\n",
       "Time:                        14:44:34   Log-Likelihood:                -1339.2\n",
       "No. Observations:                 160   AIC:                             2690.\n",
       "Df Residuals:                     154   BIC:                             2709.\n",
       "Df Model:                           5                                         \n",
       "Covariance Type:            nonrobust                                         \n",
       "==============================================================================\n",
       "                 coef    std err          t      P>|t|      [0.025      0.975]\n",
       "------------------------------------------------------------------------------\n",
       "const        362.5389    254.052      1.427      0.156    -139.338     864.416\n",
       "x1            35.8609      7.390      4.853      0.000      21.262      50.460\n",
       "x2            11.1908      8.660      1.292      0.198      -5.917      28.298\n",
       "x3            33.0059     32.666      1.010      0.314     -31.525      97.537\n",
       "x4            27.1045     39.104      0.693      0.489     -50.144     104.353\n",
       "x5            69.2045     29.946      2.311      0.022      10.047     128.362\n",
       "==============================================================================\n",
       "Omnibus:                       27.782   Durbin-Watson:                   2.007\n",
       "Prob(Omnibus):                  0.000   Jarque-Bera (JB):               99.611\n",
       "Skew:                          -0.556   Prob(JB):                     2.34e-22\n",
       "Kurtosis:                       6.702   Cond. No.                         211.\n",
       "==============================================================================\n",
       "\n",
       "Notes:\n",
       "[1] Standard Errors assume that the covariance matrix of the errors is correctly specified.\n",
       "\"\"\""
      ]
     },
     "execution_count": 19,
     "metadata": {},
     "output_type": "execute_result"
    }
   ],
   "source": [
    "from sklearn.model_selection import train_test_split\n",
    "import statsmodels.api as sm\n",
    "from sklearn.model_selection import train_test_split\n",
    "\n",
    "# Выгрузка данных из БД:\n",
    "con = sqlite3.connect('database.db')\n",
    "data = pd.read_sql(\"SELECT * FROM apartments\", con)\n",
    "\n",
    "# Подготовка данных для модели:\n",
    "x1 = data['o_m2'].values\n",
    "x2 =  data['j_m2'].values\n",
    "x3 = data['k_m2'].values\n",
    "x4 = data['floor'].values\n",
    "x5 = data['sum_floor'].values\n",
    "\n",
    "X = np.array([x1,x2,x3,x4,x5]).T\n",
    "y = data['price'].values\n",
    "\n",
    "X_train, X_test, y_train, y_test = train_test_split(X, y, test_size=0.20)\n",
    "\n",
    "# Обучение модели:\n",
    "linreg_sm = sm.OLS(y_train, sm.add_constant(X_train, prepend=True))\n",
    "linreg_sm_model = linreg_sm.fit()\n",
    "linreg_sm_model.summary()"
   ]
  },
  {
   "cell_type": "markdown",
   "metadata": {},
   "source": [
    "- По полученной статистики p_value понимаем, что в итоговой модели мы можем использовать только два параметра: o_m2, sum_floor;"
   ]
  },
  {
   "cell_type": "code",
   "execution_count": 37,
   "metadata": {},
   "outputs": [
    {
     "data": {
      "text/html": [
       "<table class=\"simpletable\">\n",
       "<caption>OLS Regression Results</caption>\n",
       "<tr>\n",
       "  <th>Dep. Variable:</th>            <td>y</td>        <th>  R-squared:         </th> <td>   0.357</td>\n",
       "</tr>\n",
       "<tr>\n",
       "  <th>Model:</th>                   <td>OLS</td>       <th>  Adj. R-squared:    </th> <td>   0.349</td>\n",
       "</tr>\n",
       "<tr>\n",
       "  <th>Method:</th>             <td>Least Squares</td>  <th>  F-statistic:       </th> <td>   43.54</td>\n",
       "</tr>\n",
       "<tr>\n",
       "  <th>Date:</th>             <td>Mon, 02 Oct 2023</td> <th>  Prob (F-statistic):</th> <td>9.03e-16</td>\n",
       "</tr>\n",
       "<tr>\n",
       "  <th>Time:</th>                 <td>14:57:12</td>     <th>  Log-Likelihood:    </th> <td> -1371.9</td>\n",
       "</tr>\n",
       "<tr>\n",
       "  <th>No. Observations:</th>      <td>   160</td>      <th>  AIC:               </th> <td>   2750.</td>\n",
       "</tr>\n",
       "<tr>\n",
       "  <th>Df Residuals:</th>          <td>   157</td>      <th>  BIC:               </th> <td>   2759.</td>\n",
       "</tr>\n",
       "<tr>\n",
       "  <th>Df Model:</th>              <td>     2</td>      <th>                     </th>     <td> </td>   \n",
       "</tr>\n",
       "<tr>\n",
       "  <th>Covariance Type:</th>      <td>nonrobust</td>    <th>                     </th>     <td> </td>   \n",
       "</tr>\n",
       "</table>\n",
       "<table class=\"simpletable\">\n",
       "<tr>\n",
       "    <td></td>       <th>coef</th>     <th>std err</th>      <th>t</th>      <th>P>|t|</th>  <th>[0.025</th>    <th>0.975]</th>  \n",
       "</tr>\n",
       "<tr>\n",
       "  <th>const</th> <td> 1161.3863</td> <td>  274.044</td> <td>    4.238</td> <td> 0.000</td> <td>  620.097</td> <td> 1702.676</td>\n",
       "</tr>\n",
       "<tr>\n",
       "  <th>x1</th>    <td>   25.0472</td> <td>    3.226</td> <td>    7.764</td> <td> 0.000</td> <td>   18.675</td> <td>   31.419</td>\n",
       "</tr>\n",
       "<tr>\n",
       "  <th>x2</th>    <td>  131.5428</td> <td>   27.660</td> <td>    4.756</td> <td> 0.000</td> <td>   76.908</td> <td>  186.178</td>\n",
       "</tr>\n",
       "</table>\n",
       "<table class=\"simpletable\">\n",
       "<tr>\n",
       "  <th>Omnibus:</th>       <td>33.863</td> <th>  Durbin-Watson:     </th> <td>   1.987</td>\n",
       "</tr>\n",
       "<tr>\n",
       "  <th>Prob(Omnibus):</th> <td> 0.000</td> <th>  Jarque-Bera (JB):  </th> <td> 244.295</td>\n",
       "</tr>\n",
       "<tr>\n",
       "  <th>Skew:</th>          <td>-0.421</td> <th>  Prob(JB):          </th> <td>8.95e-54</td>\n",
       "</tr>\n",
       "<tr>\n",
       "  <th>Kurtosis:</th>      <td> 8.995</td> <th>  Cond. No.          </th> <td>    171.</td>\n",
       "</tr>\n",
       "</table><br/><br/>Notes:<br/>[1] Standard Errors assume that the covariance matrix of the errors is correctly specified."
      ],
      "text/plain": [
       "<class 'statsmodels.iolib.summary.Summary'>\n",
       "\"\"\"\n",
       "                            OLS Regression Results                            \n",
       "==============================================================================\n",
       "Dep. Variable:                      y   R-squared:                       0.357\n",
       "Model:                            OLS   Adj. R-squared:                  0.349\n",
       "Method:                 Least Squares   F-statistic:                     43.54\n",
       "Date:                Mon, 02 Oct 2023   Prob (F-statistic):           9.03e-16\n",
       "Time:                        14:57:12   Log-Likelihood:                -1371.9\n",
       "No. Observations:                 160   AIC:                             2750.\n",
       "Df Residuals:                     157   BIC:                             2759.\n",
       "Df Model:                           2                                         \n",
       "Covariance Type:            nonrobust                                         \n",
       "==============================================================================\n",
       "                 coef    std err          t      P>|t|      [0.025      0.975]\n",
       "------------------------------------------------------------------------------\n",
       "const       1161.3863    274.044      4.238      0.000     620.097    1702.676\n",
       "x1            25.0472      3.226      7.764      0.000      18.675      31.419\n",
       "x2           131.5428     27.660      4.756      0.000      76.908     186.178\n",
       "==============================================================================\n",
       "Omnibus:                       33.863   Durbin-Watson:                   1.987\n",
       "Prob(Omnibus):                  0.000   Jarque-Bera (JB):              244.295\n",
       "Skew:                          -0.421   Prob(JB):                     8.95e-54\n",
       "Kurtosis:                       8.995   Cond. No.                         171.\n",
       "==============================================================================\n",
       "\n",
       "Notes:\n",
       "[1] Standard Errors assume that the covariance matrix of the errors is correctly specified.\n",
       "\"\"\""
      ]
     },
     "execution_count": 37,
     "metadata": {},
     "output_type": "execute_result"
    }
   ],
   "source": [
    "from sklearn.model_selection import train_test_split\n",
    "import statsmodels.api as sm\n",
    "from sklearn.model_selection import train_test_split\n",
    "\n",
    "# Выгрузка данных из БД:\n",
    "con = sqlite3.connect('database.db')\n",
    "data = pd.read_sql(\"SELECT * FROM apartments\", con)\n",
    "\n",
    "# Подготовка данных для модели:\n",
    "x1 = data['o_m2'].values\n",
    "x5 = data['sum_floor'].values\n",
    "\n",
    "X = np.array([x1,x5]).T\n",
    "y = data['price'].values\n",
    "\n",
    "X_train, X_test, y_train, y_test = train_test_split(X, y, test_size=0.20)\n",
    "\n",
    "# Обучение модели:\n",
    "linreg_sm = sm.OLS(y_train, sm.add_constant(X_train, prepend=True))\n",
    "linreg_sm_model = linreg_sm.fit()\n",
    "linreg_sm_model.summary()"
   ]
  },
  {
   "cell_type": "markdown",
   "metadata": {},
   "source": [
    "- Подтверждаем гипотезу о том, что в модель должны войти o_m2, sum_floor, итговая статистика p_value ниже 0.05;"
   ]
  },
  {
   "cell_type": "code",
   "execution_count": 38,
   "metadata": {},
   "outputs": [
    {
     "name": "stdout",
     "output_type": "stream",
     "text": [
      "             coef\n",
      "o_m2        23.14\n",
      "sum_floor  101.24\n",
      "R^2: 0.42, СКО: 1865900.46, AO: 1018.88\n"
     ]
    }
   ],
   "source": [
    "from sklearn.linear_model import LinearRegression\n",
    "from sklearn.metrics import r2_score\n",
    "import statsmodels.api as sm\n",
    "from joblib import dump, load\n",
    "from sklearn.metrics import mean_squared_error\n",
    "from sklearn.metrics import mean_absolute_error\n",
    "\n",
    "x1 = data['o_m2'].values\n",
    "x5 = data['sum_floor'].values\n",
    "\n",
    "X = np.array([x1,x5]).T\n",
    "y = data['price'].values\n",
    "\n",
    "X_train, X_test, y_train, y_test = train_test_split(X, y, test_size=0.20)\n",
    "\n",
    "#Обучение модели:\n",
    "model = LinearRegression().fit(X_train,y_train)\n",
    "coef_sklearn = model.coef_.T\n",
    "\n",
    "# Прогноз модели:\n",
    "y_out = model.predict(X_test)\n",
    "y_out = y_out.reshape(-1,1)\n",
    "\n",
    "# Проверка качества модели: \n",
    "r2_score = r2_score(y_test, y_out)\n",
    "SKO = mean_squared_error(y_test, y_out)\n",
    "AE = mean_absolute_error(y_test, y_out)\n",
    "\n",
    "# Выход оценок модели:\n",
    "df4 = data[['o_m2', 'sum_floor']]\n",
    "print(pd.DataFrame(coef_sklearn.round(2), index = df4.columns, columns = ['coef']))\n",
    "print(f'R^2: {r2_score.round(2)}, СКО: {SKO.round(2)}, AE: {AE.round(2)}')\n"
   ]
  },
  {
   "cell_type": "markdown",
   "metadata": {},
   "source": [
    "- По полученным результатам стало ясно, что модель линейной регрессии не совсем точно предсказывает наш target;\n",
    "- Метрики R^2 и MSE это подтверждают;\n",
    "- В защиту модели стоит отметить, что при работе с квадратами обычно ошибка является большой, в то время как абсолютная ошибка показывает нам, что мы ошибкаемя только на 1018.88;\n",
    "- Обозначим эту модель, как Besline и обучим следующий алгоритм."
   ]
  },
  {
   "cell_type": "markdown",
   "metadata": {},
   "source": [
    "#### 5.2 Обучение нового алгоритма"
   ]
  },
  {
   "cell_type": "markdown",
   "metadata": {},
   "source": [
    "- Для нового алгоритма используем CatBoost, проверим на сколько снизится СКО(MSE) "
   ]
  },
  {
   "cell_type": "code",
   "execution_count": 45,
   "metadata": {},
   "outputs": [
    {
     "name": "stdout",
     "output_type": "stream",
     "text": [
      "0:\tlearn: 1382.6482083\ttest: 1812.0156728\tbest: 1812.0156728 (0)\ttotal: 767us\tremaining: 767ms\n",
      "200:\tlearn: 406.8360047\ttest: 984.1142551\tbest: 913.2898770 (61)\ttotal: 126ms\tremaining: 500ms\n",
      "400:\tlearn: 288.5724700\ttest: 1054.8012392\tbest: 913.2898770 (61)\ttotal: 254ms\tremaining: 379ms\n",
      "600:\tlearn: 231.6971943\ttest: 1088.8009185\tbest: 913.2898770 (61)\ttotal: 383ms\tremaining: 254ms\n",
      "800:\tlearn: 204.6660385\ttest: 1110.9833786\tbest: 913.2898770 (61)\ttotal: 515ms\tremaining: 128ms\n",
      "999:\tlearn: 189.3695029\ttest: 1126.5462654\tbest: 913.2898770 (61)\ttotal: 641ms\tremaining: 0us\n",
      "\n",
      "bestTest = 913.289877\n",
      "bestIteration = 61\n",
      "\n",
      "Shrink model to first 62 iterations.\n",
      "СКО: 834098.4, AO: 1018.88\n"
     ]
    }
   ],
   "source": [
    "from catboost import CatBoostRegressor\n",
    "model = CatBoostRegressor(iterations=1000,  # Количество деревьев\n",
    "                          depth=6,  # Глубина деревьев\n",
    "                          learning_rate=0.1,  # Скорость обучения\n",
    "                          loss_function='RMSE',  # Функция потерь для регрессии\n",
    "                          verbose=200)  # Отображение процесса обучения\n",
    "# Обучение модели\n",
    "model.fit(X_train, y_train, eval_set=(X_test, y_test))\n",
    "# Прогноз модели:\n",
    "y_pred = model.predict(X_test)\n",
    "\n",
    "# Расчет среднеквадратичной ошибки и Абслотной ошибкаки(MSE, AE)\n",
    "mse = mean_squared_error(y_test, y_pred)\n",
    "AE = mean_absolute_error(y_test, y_out)\n",
    "\n",
    "print(f'СКО: {round(mse,2)}, AE: {round(AO,2)}')"
   ]
  },
  {
   "cell_type": "markdown",
   "metadata": {},
   "source": [
    "- Отлично, видим что ошибка снизилась в разы! Используем теперь данный алгоритм, для предсказания цен квартир."
   ]
  },
  {
   "cell_type": "code",
   "execution_count": 46,
   "metadata": {},
   "outputs": [
    {
     "data": {
      "text/plain": [
       "['model.h5']"
      ]
     },
     "execution_count": 46,
     "metadata": {},
     "output_type": "execute_result"
    }
   ],
   "source": [
    "# Сохраним обученную модль:\n",
    "dump(model, 'model.h5') "
   ]
  },
  {
   "attachments": {},
   "cell_type": "markdown",
   "metadata": {},
   "source": [
    "### 5. Создаём REST API"
   ]
  },
  {
   "cell_type": "code",
   "execution_count": 47,
   "metadata": {},
   "outputs": [
    {
     "name": "stdout",
     "output_type": "stream",
     "text": [
      " * Serving Flask app \"__main__\" (lazy loading)\n",
      " * Environment: production\n",
      "\u001b[31m   WARNING: This is a development server. Do not use it in a production deployment.\u001b[0m\n",
      "\u001b[2m   Use a production WSGI server instead.\u001b[0m\n",
      " * Debug mode: off\n"
     ]
    },
    {
     "name": "stderr",
     "output_type": "stream",
     "text": [
      " * Running on http://127.0.0.1:3000/ (Press CTRL+C to quit)\n"
     ]
    },
    {
     "name": "stderr",
     "output_type": "stream",
     "text": [
      "[2023-10-02 17:15:24,517] ERROR in app: Exception on /Prediction [POST]\n",
      "Traceback (most recent call last):\n",
      "  File \"c:\\Users\\roman\\Anaconda3\\lib\\site-packages\\flask\\app.py\", line 1950, in full_dispatch_request\n",
      "    rv = self.dispatch_request()\n",
      "  File \"c:\\Users\\roman\\Anaconda3\\lib\\site-packages\\flask\\app.py\", line 1936, in dispatch_request\n",
      "    return self.view_functions[rule.endpoint](**req.view_args)\n",
      "  File \"c:\\Users\\roman\\Anaconda3\\lib\\site-packages\\flask_restful\\__init__.py\", line 467, in wrapper\n",
      "    resp = resource(*args, **kwargs)\n",
      "  File \"c:\\Users\\roman\\Anaconda3\\lib\\site-packages\\flask\\views.py\", line 89, in view\n",
      "    return self.dispatch_request(*args, **kwargs)\n",
      "  File \"c:\\Users\\roman\\Anaconda3\\lib\\site-packages\\flask_restful\\__init__.py\", line 582, in dispatch_request\n",
      "    resp = meth(*args, **kwargs)\n",
      "  File \"C:\\Users\\roman\\AppData\\Local\\Temp\\ipykernel_14160\\1660056699.py\", line 14, in post\n",
      "    o_m2 = posted_data['o_m2']\n",
      "TypeError: 'NoneType' object is not subscriptable\n",
      "127.0.0.1 - - [02/Oct/2023 17:15:24] \"POST /Prediction HTTP/1.1\" 500 -\n",
      "127.0.0.1 - - [02/Oct/2023 17:15:31] \"POST /Prediction HTTP/1.1\" 200 -\n",
      "127.0.0.1 - - [02/Oct/2023 17:15:42] \"POST /Prediction HTTP/1.1\" 200 -\n",
      "127.0.0.1 - - [02/Oct/2023 17:15:51] \"POST /Prediction HTTP/1.1\" 200 -\n"
     ]
    }
   ],
   "source": [
    "from flask import Flask, jsonify, request \n",
    "from flask_restful import Api, Resource\n",
    "from joblib import dump, load\n",
    "\n",
    "app  = Flask(__name__)\n",
    "api = Api(app)\n",
    "\n",
    "model = load('model.h5')\n",
    "\n",
    "class MakePrediction(Resource):\n",
    "    @staticmethod\n",
    "    def post():\n",
    "        posted_data = request.get_json()\n",
    "        o_m2 = posted_data['o_m2']\n",
    "        sum_floor = posted_data['sum_floor']\n",
    "        prediction = model.predict([[o_m2,sum_floor]])[0]\n",
    "        return jsonify({\n",
    "            'Prediction': prediction\n",
    "        })\n",
    "   \n",
    "api.add_resource(MakePrediction, '/Prediction')\n",
    "api.init_app(app)\n",
    "\n",
    "if __name__ == '__main__':\n",
    "    app.run(port=3000, host=\"127.0.0.1\") #debug=False, 127.0.0.1"
   ]
  },
  {
   "cell_type": "markdown",
   "metadata": {},
   "source": [
    "- Успех, модель выдаёт нам искомый результат при обращении через Api!"
   ]
  }
 ],
 "metadata": {
  "kernelspec": {
   "display_name": "Python 3 (ipykernel)",
   "language": "python",
   "name": "python3"
  },
  "language_info": {
   "codemirror_mode": {
    "name": "ipython",
    "version": 3
   },
   "file_extension": ".py",
   "mimetype": "text/x-python",
   "name": "python",
   "nbconvert_exporter": "python",
   "pygments_lexer": "ipython3",
   "version": "3.9.12"
  }
 },
 "nbformat": 4,
 "nbformat_minor": 4
}
